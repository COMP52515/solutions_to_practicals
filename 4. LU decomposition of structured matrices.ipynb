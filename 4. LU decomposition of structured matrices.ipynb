{
 "cells": [
  {
   "cell_type": "markdown",
   "metadata": {},
   "source": [
    "# LU decomposition of structured matrices\n",
    "\n",
    "The algorithm for computing the LU decomposition of a matrix can be adapted to matrices with special sparsity patterns. As usual, this amounts to removing unnecessary operations, which are all those arithmetic operations whose result is known in advance: sums of zeros (the result is zero), sums where one of the operands is a zero (the result is the nonzero term), multiplications by one (the result is the other factor) or by zero (the result is zero), divisions by one (the result is the dividend), or division with 0 dividend (the result is zero)."
   ]
  },
  {
   "cell_type": "markdown",
   "metadata": {},
   "source": [
    "## Packages\n",
    "\n",
    "As usual, we will deal with `numpy` matrices and vectors, thus we will need to import that package. We will look at some BLAS implementations in `scipy.linalg`, and we will use `timeit` to time our implementations and `matplotlib.pyplot` to plot the results."
   ]
  },
  {
   "cell_type": "code",
   "execution_count": 1,
   "metadata": {},
   "outputs": [],
   "source": [
    "import numpy as np\n",
    "from numpy.lib import stride_tricks\n",
    "\n",
    "import scipy as sp\n",
    "from scipy import linalg\n",
    "\n",
    "import matplotlib\n",
    "from matplotlib import pyplot as plt\n",
    "\n",
    "import timeit"
   ]
  },
  {
   "cell_type": "markdown",
   "metadata": {},
   "source": [
    "## Banded arrowhead matrices\n",
    "\n",
    "Arrowhead matrices are structured square matrices that only have nonzeros in the top row, leftmost column, and main diagonal. Computing the LU decomposition without pivoting of these matrices would only require one step of the \"Gaussian elimination algorithm\", and would not make for a very interesting exercise. Therefore, we will consider the family $\\mathcal S_{m,k}$, where $m$ and $k$ are positive integers, with $k < \\left\\lfloor m/2 \\right\\rfloor$. The $m$-by-$m$ matrix $A$ belongs to $\\mathcal S_{m,k}$ if $a_ij = 0$ when:\n",
    "+ $j + k - 1 < i < m - k + 1$, or\n",
    "+ $i < j < m - k + 1$.\n",
    "\n",
    "In the cell below, you will find an implementation of a function that generates test matrix with such structure, which we will call *banded arrowhead* for short."
   ]
  },
  {
   "cell_type": "code",
   "execution_count": 2,
   "metadata": {},
   "outputs": [],
   "source": [
    "def generate_banded_arrowhead(m, k):\n",
    "    \"\"\" Generate a banded arrowhead matrix with random\n",
    "        entries.\n",
    "    \"\"\"\n",
    "    assert(k < m/2)\n",
    "    A = np.zeros([m, m])\n",
    "    A[m-k:m,:] = np.random.rand(k, m)\n",
    "    A[0:m-k,m-k:m] = np.random.rand(m-k, k)\n",
    "    size_block_11 = max(0, m-k)\n",
    "    if size_block_11 > 0:\n",
    "        A[:m-k,:m-k] = sp.linalg.toeplitz(\n",
    "            np.concatenate((np.random.rand(min(k, size_block_11)), np.zeros(max(0, size_block_11-k)))),\n",
    "            np.concatenate((np.random.rand(1,), np.zeros(max(m-k-1, 0)))))\n",
    "    return A"
   ]
  },
  {
   "cell_type": "markdown",
   "metadata": {},
   "source": [
    "We can print a small matrix, to get a sense of the what the pattern looks like."
   ]
  },
  {
   "cell_type": "code",
   "execution_count": 3,
   "metadata": {},
   "outputs": [
    {
     "data": {
      "image/png": "[encoded data removed]",
      "text/plain": [
       "<Figure size 432x288 with 1 Axes>"
      ]
     },
     "metadata": {
      "needs_background": "light"
     },
     "output_type": "display_data"
    }
   ],
   "source": [
    "m = 20\n",
    "k = 5\n",
    "A = generate_banded_arrowhead(m, k)\n",
    "plt.spy(A)\n",
    "plt.show()"
   ]
  },
  {
   "cell_type": "markdown",
   "metadata": {},
   "source": [
    "Let us try to solve a linear system with a coefficient in $\\mathcal S_{m,k}$ with the LU decomposition without pivoting. Using pivoting here would be a good idea in general, but it would destroy the structure in $L$ and $U$, which we want to preserve in order to develop good algorithms. In the experiments below, we will generate matrices for which we can guarantee that the LU decomposition without pivoting is stable.\n",
    "\n",
    "The first task is the implementation of a the algorithm that computes the LU decomposition in place. You should try to avoid any unnecessary operations. In order to exploit the structure, we need to know the parameter $k$. Even though we could in principle recover this by finding for the first zero entry in the first column of the matrix, we pass it as an argument for simplicity."
   ]
  },
  {
   "cell_type": "code",
   "execution_count": 4,
   "metadata": {
    "nbgrader": {
     "grade": true,
     "grade_id": "cell-3d4543d9ce719333",
     "locked": false,
     "points": 0,
     "schema_version": 3,
     "solution": true,
     "task": false
    }
   },
   "outputs": [],
   "source": [
    "def compute_LU_banded_arrowhead(A, k):\n",
    "    \"\"\" Compute the LU decomposition using a single-loop approach\n",
    "        based on outer products. The algorithm requires a\n",
    "        quadratic amount of additional memory.\n",
    "    \"\"\"\n",
    "    ### BEGIN SOLUTION\n",
    "    (m, n) = A.shape\n",
    "    assert(m == n)\n",
    "    U = A.copy()\n",
    "    L = np.eye(m)\n",
    "\n",
    "    for n in range(m-2*k):\n",
    "        L[n+1:n+k, n] = U[n+1:n+k, n] / U[n, n]\n",
    "        U[n+1:n+k, n] = 0\n",
    "        U[n+1:n+k, m-k:m] -= np.outer(L[n+1:n+k, n], U[n, m-k:m])\n",
    "        \n",
    "        L[m-k:m, n] = U[m-k:m, n] / U[n, n]\n",
    "        U[m-k:m, n] = 0\n",
    "        U[m-k:m, m-k:m] -= np.outer(L[m-k:m, n], U[n, m-k:m])\n",
    "    \n",
    "    for n in range(m-2*k, m-1):\n",
    "        L[n+1:m, n] = U[n+1:m, n] / U[n, n]\n",
    "        U[n+1:m, n] = 0\n",
    "        U[n+1:m, max(m-k,n+1):m] -= np.outer(L[n+1:m, n], U[n, max(m-k,n+1):m])\n",
    "    return L, U\n",
    "    ### END SOLUTION"
   ]
  },
  {
   "cell_type": "markdown",
   "metadata": {},
   "source": [
    "We can test this function on small banded arrowhead matrices generated with the `generate_banded_arrowhead` function deinfed above. In order to check that the "
   ]
  },
  {
   "cell_type": "code",
   "execution_count": 5,
   "metadata": {},
   "outputs": [],
   "source": [
    "def test_LU_decomposition(m, k, f):\n",
    "    \"\"\" Check that L and U computed by `f`\n",
    "        satisfy LU = A.\n",
    "    \"\"\"\n",
    "    A = generate_banded_arrowhead(m, k) + m * np.eye(m)\n",
    "    L, U = f(A, k)\n",
    "    if np.allclose(L @ U, A):\n",
    "        return True\n",
    "    else:\n",
    "        return False\n",
    "\n",
    "def run_sanity_check_LU_decomposition(f):\n",
    "    \"\"\" Run basic correctness test on the function `f`.\n",
    "        The latter should be a pointer to a function that\n",
    "        returns two matrices, the L and U factors of the\n",
    "        LU decomposition of the input.\n",
    "    \"\"\"\n",
    "    for m in range(1, 10):\n",
    "        for k in range(1, m//2):\n",
    "            assert(test_LU_decomposition(m, k, f))\n",
    "\n",
    "f = compute_LU_banded_arrowhead\n",
    "run_sanity_check_LU_decomposition(f)"
   ]
  },
  {
   "cell_type": "markdown",
   "metadata": {},
   "source": [
    "Next step will be to convert `compute_LU_banded_arrowhead` to work in place by modifying the matrix `A` rather than generating two new matrices `L` and `U`. As usual, your functions should modify the input and not return anything."
   ]
  },
  {
   "cell_type": "code",
   "execution_count": 6,
   "metadata": {
    "nbgrader": {
     "grade": true,
     "grade_id": "cell-3adc9f08236b36c4",
     "locked": false,
     "points": 0,
     "schema_version": 3,
     "solution": true,
     "task": false
    }
   },
   "outputs": [],
   "source": [
    "def compute_LU_banded_arrowhead_in_place(A, k):\n",
    "    \"\"\" Compute the LU decomposition using a single-loop approach\n",
    "        based on outer products. The algorithm requires a\n",
    "        quadratic amount of additional memory.\n",
    "    \"\"\"\n",
    "    ### BEGIN SOLUTION\n",
    "    (m, n) = A.shape\n",
    "    assert(m == n)\n",
    "\n",
    "    for n in range(m-2*k):\n",
    "        A[n+1:n+k, n] = A[n+1:n+k, n] / A[n, n]\n",
    "        A[n+1:n+k, m-k:m] -= np.outer(A[n+1:n+k, n], A[n, m-k:m])\n",
    "        \n",
    "        A[m-k:m, n] = A[m-k:m, n] / A[n, n]\n",
    "        A[m-k:m, m-k:m] -= np.outer(A[m-k:m, n], A[n, m-k:m])\n",
    "    \n",
    "    for n in range(m-2*k, m-1):\n",
    "        A[n+1:m, n] = A[n+1:m, n] / A[n, n]\n",
    "        A[n+1:m, max(m-k,n+1):m] -= np.outer(A[n+1:m, n], A[n, max(m-k,n+1):m])\n",
    "    ### END SOLUTION"
   ]
  },
  {
   "cell_type": "code",
   "execution_count": 7,
   "metadata": {},
   "outputs": [],
   "source": [
    "def test_LU_decomposition(m, k, f):\n",
    "    \"\"\" Check that L and U computed by `f`\n",
    "        satisfy LU = A.\n",
    "    \"\"\"\n",
    "    A = generate_banded_arrowhead(m, k) + m * np.eye(m)\n",
    "    B = A.copy()\n",
    "    f(B, k)\n",
    "    L = np.eye(m) + np.tril(B, -1)\n",
    "    U = np.triu(B)\n",
    "    if np.allclose(L @ U, A):\n",
    "        return True\n",
    "    else:\n",
    "        return False\n",
    "\n",
    "def run_sanity_check_LU_decomposition(f):\n",
    "    \"\"\" Run basic correctness test on the function `f`.\n",
    "        The latter should be a pointer to a function that\n",
    "        returns two matrices, the L and U factors of the\n",
    "        LU decomposition of the input.\n",
    "    \"\"\"\n",
    "    for m in range(1, 10):\n",
    "        for k in range(1, m//2):\n",
    "            assert(test_LU_decomposition(m, k, f))\n",
    "\n",
    "f = compute_LU_banded_arrowhead_in_place\n",
    "run_sanity_check_LU_decomposition(f)"
   ]
  },
  {
   "cell_type": "markdown",
   "metadata": {},
   "source": [
    "Next, we want to use the function defined above to solve a structured linear system. In order to do that, we need to define a structured version of the algorithms for backward and forward substitution."
   ]
  },
  {
   "cell_type": "code",
   "execution_count": 8,
   "metadata": {
    "nbgrader": {
     "grade": true,
     "grade_id": "cell-4956db825ff9e4be",
     "locked": false,
     "points": 0,
     "schema_version": 3,
     "solution": true,
     "task": false
    }
   },
   "outputs": [],
   "source": [
    "def solve_banded_arrowhead_upper_triangular_system(U, k, b):\n",
    "    assert(is_numpy_matrix(U) and is_numpy_vector(b))\n",
    "    (m, n) = U.shape\n",
    "    assert(m == n)\n",
    "    assert(m == b.shape[0])\n",
    "    ### BEGIN SOLUTION\n",
    "    x = np.zeros_like(b)\n",
    "    for i in range(m-1, -1, -1):\n",
    "        x[i] = b[i]\n",
    "        x[i] -= U[i, max(m-k, i+1):m] @ x[max(m-k, i+1):m]\n",
    "        x[i] /= U[i, i]\n",
    "    return x\n",
    "    ### END SOLUTION\n",
    "\n",
    "def solve_banded_arrowhead_unit_lower_triangular_system(L, k, b):\n",
    "    assert(is_numpy_matrix(L) and is_numpy_vector(b))\n",
    "    (m, n) = L.shape\n",
    "    assert(m == n)\n",
    "    assert(m == b.shape[0])\n",
    "    ### BEGIN SOLUTION\n",
    "    x = np.zeros_like(b)\n",
    "    for i in range(m-k):\n",
    "        x[i] = b[i]\n",
    "        x[i] -= L[i, max(0, i-k):i] @ x[max(0, i-k):i]\n",
    "    for i in range(m-k, m):\n",
    "        x[i] = b[i]\n",
    "        x[i] -= L[i, 0:i] @ x[0:i]\n",
    "    return x\n",
    "    ### END SOLUTION"
   ]
  },
  {
   "cell_type": "markdown",
   "metadata": {},
   "source": [
    "We can now define a function that solves the linear system by relying on the three functions defined above."
   ]
  },
  {
   "cell_type": "code",
   "execution_count": 9,
   "metadata": {
    "nbgrader": {
     "grade": true,
     "grade_id": "cell-eda7123f87cf601d",
     "locked": false,
     "points": 0,
     "schema_version": 3,
     "solution": true,
     "task": false
    }
   },
   "outputs": [],
   "source": [
    "def is_numpy_matrix(A):\n",
    "    if type(A) != np.ndarray or A.ndim != 2:\n",
    "        return False\n",
    "    else:\n",
    "        return True\n",
    "    \n",
    "def is_numpy_vector(x):\n",
    "    if type(A) != np.ndarray or (A.ndim > 2 and x.shape[1] != 1):\n",
    "        return False\n",
    "    else:\n",
    "        return True\n",
    "\n",
    "def solve_banded_arrowhead_linear_system_lu(A, k, b):\n",
    "    # Validate input.\n",
    "    if not is_numpy_matrix(A):\n",
    "        raise Exception(\"The first argument must be a numpy matrix.\")\n",
    "    (m, n) = A.shape\n",
    "    if m != n:\n",
    "        raise Exception(\"The first argument must be a square matrix.\")\n",
    "    if not is_numpy_vector(b):\n",
    "        raise Exception(\"The second argument must be a numpy vector or column matrix.\")\n",
    "    if m != b.shape[0]:\n",
    "        raise Exception(\"First and second argument must be conformable.\")\n",
    "    \n",
    "    ### BEGIN SOLUTION\n",
    "    compute_LU_banded_arrowhead_in_place(A, k)\n",
    "    y = solve_banded_arrowhead_unit_lower_triangular_system(A, k, b)\n",
    "    x = solve_banded_arrowhead_upper_triangular_system(A, k, y)\n",
    "    return x\n",
    "    ### END SOLUTION"
   ]
  },
  {
   "cell_type": "markdown",
   "metadata": {},
   "source": [
    "Finally, we can test that the functions work as intended."
   ]
  },
  {
   "cell_type": "code",
   "execution_count": 10,
   "metadata": {},
   "outputs": [],
   "source": [
    "def test_LU_solver(m, k, f):\n",
    "    \"\"\" Compare the result computed by the function `f`\n",
    "        by the built-in operator `numpy.linalg.solve`.\n",
    "    \"\"\"\n",
    "    A = generate_banded_arrowhead(m, k) + m * np.eye(m)\n",
    "    b = np.random.rand(m)\n",
    "    reference = np.linalg.solve(A, b)\n",
    "    if np.allclose(f(A, k, b), reference):\n",
    "        return True\n",
    "    else:\n",
    "        print(\"ref = \", reference)\n",
    "        print(\"f   = \", f(A, k, b))\n",
    "        return False\n",
    "\n",
    "def run_sanity_check(f):\n",
    "    \"\"\" Run basic correctness test on the function `f`.\n",
    "        The latter should be a pointer to a function that\n",
    "        takes a banded arrowhead matrix `A`, its band `k`,\n",
    "        and a vector `b`, and solves the linear system\n",
    "        `A x = b`.\n",
    "    \"\"\"\n",
    "    for m in range(1, 10):\n",
    "        for k in range(1, m//2):\n",
    "            assert(test_LU_solver(m, k, f))\n",
    "\n",
    "f = solve_banded_arrowhead_linear_system_lu\n",
    "run_sanity_check(f)"
   ]
  }
 ],
 "metadata": {
  "celltoolbar": "Create Assignment",
  "kernelspec": {
   "display_name": "Python 3",
   "language": "python",
   "name": "python3"
  },
  "language_info": {
   "codemirror_mode": {
    "name": "ipython",
    "version": 3
   },
   "file_extension": ".py",
   "mimetype": "text/x-python",
   "name": "python",
   "nbconvert_exporter": "python",
   "pygments_lexer": "ipython3",
   "version": "3.8.11"
  }
 },
 "nbformat": 4,
 "nbformat_minor": 4
}
