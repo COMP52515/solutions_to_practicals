{
 "cells": [
  {
   "cell_type": "markdown",
   "metadata": {},
   "source": [
    "# Introduction\n",
    "\n",
    "In this session, we see how to implement in Python the most fundamental matrix operation: matrix–matrix mutliplication. We will start in the most naive way and then work our way up to less straightforward but more efficient algorithms."
   ]
  },
  {
   "cell_type": "markdown",
   "metadata": {},
   "source": [
    "## Python packages\n",
    "In this module, we will be using two very popular Python packages, [NumPy](https://numpy.org) and [SciPy](https://scipy.org/). Confusingly enough, they both contain a `linalg` submodule, and unfortunately there is an overlap in functionality between the two. For context, you can read the first two paragraphs of [the documentation of the NumPy `linalg` submodule](https://numpy.org/devdocs/reference/routines.linalg.html), wich reports some differences between the two. The [documentaion of the corresponding SciPy submodule](https://docs.scipy.org/doc/scipy/reference/linalg.html) may also be helpful later in the course.\n",
    "\n",
    "For now, let's just import `numpy`."
   ]
  },
  {
   "cell_type": "code",
   "execution_count": 1,
   "metadata": {},
   "outputs": [],
   "source": [
    "import numpy as np"
   ]
  },
  {
   "cell_type": "markdown",
   "metadata": {},
   "source": [
    "## Fundamentals of `numpy` arrays\n",
    "Before implementing any matrix algorithm, we need to now how to generate and manipulate matrices. The `numpy` packages can help us with this.\n",
    "\n",
    "First of all, let us generate some 2D `numpy` arrays from a list of elements. We can do this in two ways:"
   ]
  },
  {
   "cell_type": "code",
   "execution_count": 2,
   "metadata": {},
   "outputs": [],
   "source": [
    "# A is a 2-by-4 matrix.\n",
    "A = np.matrix('1 1 1 1; 1 2 3 4')\n",
    "\n",
    "# B is a 4-by-3 matrix.\n",
    "B = np.matrix([[1, 1, 1], [1, 2, 3], [1, 3, 5], [1, 4, 7]])"
   ]
  },
  {
   "cell_type": "markdown",
   "metadata": {},
   "source": [
    "Note that the first method (used to construct `A`) is more compact than the former, and therefore may be preferable and less prone to errors, although you will rarely input a matrix element by element. Note that these two matrices are consistent, and their product is therefore well defined. We can compute it easily with built-in `numpy` command `@`."
   ]
  },
  {
   "cell_type": "markdown",
   "metadata": {},
   "source": [
    "There are several functions we can use to generate special matrices."
   ]
  },
  {
   "cell_type": "code",
   "execution_count": 3,
   "metadata": {},
   "outputs": [],
   "source": [
    "# O is a 2-by-3 matrix of zeros.\n",
    "O = np.zeros([2, 3])\n",
    "\n",
    "# E is a 3-by-2 matrix of ones.\n",
    "E = np.zeros([3, 3])\n",
    "\n",
    "# I is the 3-by-3 identity matrix, that is, a matrix with\n",
    "# ones on the diagonal and zeros everywhere else.\n",
    "I = np.eye(3)"
   ]
  },
  {
   "cell_type": "markdown",
   "metadata": {},
   "source": [
    "We can now print these matrices to check that their entries are indeed what we expect."
   ]
  },
  {
   "cell_type": "code",
   "execution_count": 4,
   "metadata": {},
   "outputs": [
    {
     "name": "stdout",
     "output_type": "stream",
     "text": [
      "O =\n",
      " [[0. 0. 0.]\n",
      " [0. 0. 0.]]\n",
      "\n",
      "E =\n",
      " [[0. 0. 0.]\n",
      " [0. 0. 0.]\n",
      " [0. 0. 0.]]\n",
      "\n",
      "I =\n",
      " [[1. 0. 0.]\n",
      " [0. 1. 0.]\n",
      " [0. 0. 1.]]\n",
      "\n",
      "A =\n",
      " [[1 1 1 1]\n",
      " [1 2 3 4]]\n",
      "\n",
      "B = \n",
      " [[1 1 1]\n",
      " [1 2 3]\n",
      " [1 3 5]\n",
      " [1 4 7]]\n",
      "\n",
      "AB = \n",
      " [[ 4 10 16]\n",
      " [10 30 50]]\n"
     ]
    }
   ],
   "source": [
    "print(\"O =\\n\", O)\n",
    "print(\"\\nE =\\n\", E)\n",
    "print(\"\\nI =\\n\", I)\n",
    "print(\"\\nA =\\n\", A)\n",
    "print(\"\\nB = \\n\", B)\n",
    "print(\"\\nAB = \\n\", A @ B)"
   ]
  },
  {
   "cell_type": "markdown",
   "metadata": {},
   "source": [
    "One of the most basic properties we might want to check are the dimensions (numbers of rows and column) of a matrix. The `numpy.ndim` function returns the number of dimensions of the attay, which will typically be 1 (for vectors) or 2 (for matrices) in this module. The `numpy.shape` function returns a tuple with the number of rows (and columns, for matrices) of `numpy` array. "
   ]
  },
  {
   "cell_type": "code",
   "execution_count": 5,
   "metadata": {},
   "outputs": [
    {
     "name": "stdout",
     "output_type": "stream",
     "text": [
      "0\n",
      "()\n",
      "1\n",
      "(3,)\n",
      "2\n",
      "(2, 4)\n",
      "(4, 3)\n"
     ]
    }
   ],
   "source": [
    "# Scalars have no dimensions, thus the shape tuple is empty.\n",
    "print(np.ndim(1))\n",
    "print(np.shape(1))\n",
    "\n",
    "# Arrays have 1 dimension.\n",
    "x = np.array([1, 2, 3])\n",
    "print(x.ndim)\n",
    "print(x.shape)\n",
    "\n",
    "print(A.ndim)\n",
    "print(A.shape)\n",
    "print(np.shape(B))"
   ]
  },
  {
   "cell_type": "markdown",
   "metadata": {},
   "source": [
    "Another fundamental matrix operation we will be using is *transposition*. The transpose of the matrix $m \\times n$ $A$ is the $n \\times m$ matrix $B$ such that\n",
    "$$\n",
    "a_{ij} = b_{ji}.\n",
    "$$\n",
    "We denote the transpose of $A$ by $A^T$, and we can compute the transpose of a 2D `numpy` array with the `numpy.transpose` function."
   ]
  },
  {
   "cell_type": "code",
   "execution_count": 6,
   "metadata": {},
   "outputs": [
    {
     "name": "stdout",
     "output_type": "stream",
     "text": [
      "A^T =\n",
      " [[1 1]\n",
      " [1 2]\n",
      " [1 3]\n",
      " [1 4]]\n"
     ]
    }
   ],
   "source": [
    "print(\"A^T =\\n\", A.transpose())"
   ]
  },
  {
   "cell_type": "markdown",
   "metadata": {},
   "source": [
    "You can select a specific element of a `numpy` matrix using square brackets, as you would in Python lists. \n",
    "\n",
    "**REMEMBER:** Just as in Python lists, both dimensions of a matrix start from 0, **not** from 1.\n",
    "\n",
    "For example the instructions to print $a_{24}$ and $b_{43}$ are"
   ]
  },
  {
   "cell_type": "code",
   "execution_count": 7,
   "metadata": {},
   "outputs": [
    {
     "name": "stdout",
     "output_type": "stream",
     "text": [
      "4\n",
      "7\n"
     ]
    }
   ],
   "source": [
    "print(A[1, 3])\n",
    "print(B[3, 2])"
   ]
  },
  {
   "cell_type": "markdown",
   "metadata": {},
   "source": [
    "Often, rather than single elements we might want to take a submatrix. For example, we might want to extract a row, a column, or a block in a certain position. We can do this by using the *slicing* operator. The following examples extract the first row of $A$, the first column of $B$, and the top-left $2 \\times 2$ block of $B$."
   ]
  },
  {
   "cell_type": "code",
   "execution_count": 8,
   "metadata": {},
   "outputs": [
    {
     "name": "stdout",
     "output_type": "stream",
     "text": [
      "A_{1,*} = \n",
      " [[1 2 3 4]]\n",
      "B_{*,1} = \n",
      " [[1]\n",
      " [2]\n",
      " [3]\n",
      " [4]]\n",
      "B_{1-2,1-2} [[2]]\n"
     ]
    }
   ],
   "source": [
    "print(\"A_{1,*} = \\n\", A[1, :])\n",
    "print(\"B_{*,1} = \\n\", B[:, 1])\n",
    "print(\"B_{1-2,1-2}\", B[1:2, 1:2])"
   ]
  },
  {
   "cell_type": "markdown",
   "metadata": {},
   "source": [
    "Now we have all the ingredients we need to implement a function that computes the product of two 2D `numpy` arrays."
   ]
  },
  {
   "cell_type": "markdown",
   "metadata": {},
   "source": [
    "# Matrix–matrix multiplication\n",
    "Let $A$ and $B$ be a $m \\times p$ ($m$ rows and $p$ columns) and a $q \\times n$ ($q$ rows and $n$ columns) matrix, respectively. If $p = q$, then $A$ and $B$ are said to be *conformable*, and their product $C = AB$ is an $m \\times n$ matrix with elements\n",
    "\n",
    "$$\n",
    "c_{ij} = \\sum_{k = 1}^{p} a_{ik}b_{kj}.\n",
    "$$\n",
    "\n",
    "### Naive algorithm\n",
    "Our first task will be to write a function `compute_mxm_naive` that given in input two `numpy` arrays matrices `A` and `B` returns their product if the are conformable and raises an exception otherwise. Try to complete the function skeleton below. The code you write should have three nested loops, one over $i$, one over $j$, and one over $k$. Note that the order in which the three indices appear does not matter for the correctness of the algorithm."
   ]
  },
  {
   "cell_type": "code",
   "execution_count": 9,
   "metadata": {
    "nbgrader": {
     "grade": true,
     "grade_id": "cell-57890de5cb5d5c43",
     "locked": false,
     "points": 0,
     "schema_version": 3,
     "solution": true,
     "task": false
    }
   },
   "outputs": [],
   "source": [
    "\"\"\"Compute the product of two conformable matrices using the definition, or raise an exception.\"\"\"\n",
    "def compute_mxm_naive(A, B):\n",
    "    # Check the dimensions of A and B, and raise an exception is A and B are not conformable.\n",
    "    # The Python code to raise an exception is: raise Exception(\"<Exception message>\")\n",
    "    ### BEGIN SOLUTION\n",
    "    (m, p) = A.shape\n",
    "    (q, n) = B.shape\n",
    "    if (p != q):\n",
    "        raise Exception(\"Matrices are not conformable.\")\n",
    "    ### END SOLUTION\n",
    "    \n",
    "    # Initialize the matrix C, compute its elements using the formula above, and return it. \n",
    "    # BEGIN SOLUTION\n",
    "    C = np.zeros([m, n])\n",
    "    for i in range(m):\n",
    "        for j in range(n):\n",
    "            for k in range (p):\n",
    "                C[i,j] += A[i,k] * B[k,j]\n",
    "    return C\n",
    "    ### END SOLUTION"
   ]
  },
  {
   "cell_type": "markdown",
   "metadata": {},
   "source": [
    "We now want to test our function for correctness and performance, and to do so it will be convenient to have a function that generates test matrices of given dimension. We can generate an $m \\times n$ matrix with random entries with the following one-line function, which constructs a 1D `numpy` array of lenght $mn$ and then reshapes it into an $m \\times n$ matrix (that is, a 2D `numpy` array)."
   ]
  },
  {
   "cell_type": "code",
   "execution_count": 10,
   "metadata": {},
   "outputs": [],
   "source": [
    "\"\"\"Generate an m-by-n matrix with random entries.\"\"\"\n",
    "def generate_matrix(m, n):\n",
    "    return np.reshape(np.random.randn(m * n), [m, n])"
   ]
  },
  {
   "cell_type": "markdown",
   "metadata": {},
   "source": [
    "First of all, let us look for obvious bugs in `compute_mxm_naive`. We will do that by comparing, on a selection of small matrices with different shapes, the matrices returned by `compute_mxm_naive` and by the built-in `@` function. To test for equality, we will use the `numpy.allclose` function, which is a better choice when dealing with matrices. "
   ]
  },
  {
   "cell_type": "code",
   "execution_count": 11,
   "metadata": {},
   "outputs": [],
   "source": [
    "\"\"\"Compare the matrix product computed by the function `f` and by the built-in operator `@`.\"\"\"\n",
    "def compare_accuracy_on_conformable_matrices(m, n, p, f):\n",
    "    A = generate_matrix(m, p)\n",
    "    B = generate_matrix(p, n)\n",
    "    if np.allclose(f(A, B), A @ B):\n",
    "        return True\n",
    "    else:\n",
    "        return False\n",
    "\n",
    "\"\"\"\n",
    "Run basic correctness test on the function `f`.\n",
    "The latter should be a pointer to a function that takes two matrices and returns their product.\n",
    "\"\"\"\n",
    "def run_sanity_check(f):\n",
    "    for m in range(1, 4):\n",
    "        for n in range(1, 4):\n",
    "            for p in range(1, 4):\n",
    "                assert(compare_accuracy_on_conformable_matrices(m, n, p, f))\n",
    "\n",
    "f = compute_mxm_naive\n",
    "run_sanity_check(f)"
   ]
  },
  {
   "cell_type": "markdown",
   "metadata": {},
   "source": [
    "Next, we want to assess the performance of our implementation. In order to do so, we should use matrices of moderately large size. Now we can use the generated matrices to time the function `compute_mxm_naive`. In the cell below, `%time` is a built-in \"magic command\", also known as a \"Magic\", which returns the CPU time and wall time of the following line of code. Although it is not recommended as a way to benchmark code, it can give you a crude estimate that should be enough for now."
   ]
  },
  {
   "cell_type": "code",
   "execution_count": 12,
   "metadata": {},
   "outputs": [
    {
     "name": "stdout",
     "output_type": "stream",
     "text": [
      "CPU times: user 910 ms, sys: 1.11 ms, total: 911 ms\n",
      "Wall time: 910 ms\n",
      "CPU times: user 16.3 ms, sys: 9.42 ms, total: 25.7 ms\n",
      "Wall time: 1.79 ms\n"
     ]
    }
   ],
   "source": [
    "m = 100\n",
    "A = generate_matrix(m, m)\n",
    "B = generate_matrix(m, m)\n",
    "%time C = compute_mxm_naive(A, B)\n",
    "%time C = A @ B"
   ]
  },
  {
   "cell_type": "markdown",
   "metadata": {},
   "source": [
    "Your implementation `compute_mxm_naive` should be over two order of magnitudes slower than `@`. We will see how to improve this implementaiton in the remainder of this notebook."
   ]
  },
  {
   "cell_type": "markdown",
   "metadata": {},
   "source": [
    "## Algorithm using inner products \n",
    "The $m \\times n$ matrix `A` is a column vector if $n = 1$, a row vector if $m = 1$, and a scalar if $m = n = 1$. In linear algebra, a vector is usually denoted by a lowercase letter, such as $u$ or $v$, and is generally assumed to be a column vector. The *inned product* of two vectors $u$ and $v$ of length $n$ is the scalar $u^T v = v^T u$. We can compute the dot product of two 2D `numpy` arrays with the `@` operator, if they are conformable, and we can compute the dot product of two 1D `numpy` vectors of the same length with the function `np.dot()`.\n",
    "\n",
    "Our next task will be to write a function `compute_mxm_with_inner_products` that given in input two matrices `A` and `B` computes their product using inner products. The idea is to use the formula\n",
    "$$\n",
    "c_{ij} = A_{i,*} B_{*,j},\n",
    "$$\n",
    "where $A_{i,*}$ denotes the $i$th row of $A$ and $B_{*,j}$ denotes the $j$th column of $B$.\n",
    "\n",
    "Once again, you have a function skeleton to fill in. You might want to have a look at the discussion above about slicing. The code you write should have only two nested loops, one over $i$ and one over $j$. You can assume that the two matrices are conformable this time."
   ]
  },
  {
   "cell_type": "code",
   "execution_count": 13,
   "metadata": {
    "nbgrader": {
     "grade": true,
     "grade_id": "cell-d978214c75c3d81d",
     "locked": false,
     "points": 0,
     "schema_version": 3,
     "solution": true,
     "task": false
    }
   },
   "outputs": [],
   "source": [
    "\"\"\"Compute the product of two confomable matrices using inner products.\"\"\"\n",
    "def compute_mxm_with_inner_products(A, B):\n",
    "    # Get the dimensions of C, initialize the matrix, compute its elements\n",
    "    # using inner products, and return it. \n",
    "    # BEGIN SOLUTION\n",
    "    (m, p) = A.shape\n",
    "    (q, n) = B.shape\n",
    "    C = np.zeros([m, n])\n",
    "    for i in range(m):\n",
    "        for j in range(n):\n",
    "            C[i, j] += A[i, :] @ B[:, j]\n",
    "    return C\n",
    "    ### END SOLUTION"
   ]
  },
  {
   "cell_type": "markdown",
   "metadata": {},
   "source": [
    "To look for obvious bugs, can run the suite of simple tests we defined above."
   ]
  },
  {
   "cell_type": "code",
   "execution_count": 14,
   "metadata": {},
   "outputs": [],
   "source": [
    "f = compute_mxm_with_inner_products\n",
    "run_sanity_check(f)"
   ]
  },
  {
   "cell_type": "markdown",
   "metadata": {},
   "source": [
    "Now we can compare the performance of `compute_mxm_naive` and `compute_with_mxm_inner_products` on some matrices. We need to keep `m` moderately low to keep the runtime manageable."
   ]
  },
  {
   "cell_type": "code",
   "execution_count": 15,
   "metadata": {},
   "outputs": [
    {
     "name": "stdout",
     "output_type": "stream",
     "text": [
      "CPU times: user 1.47 s, sys: 689 ms, total: 2.16 s\n",
      "Wall time: 850 ms\n",
      "CPU times: user 24.7 ms, sys: 0 ns, total: 24.7 ms\n",
      "Wall time: 24.5 ms\n"
     ]
    }
   ],
   "source": [
    "m = 100\n",
    "A = generate_matrix(m, m)\n",
    "B = generate_matrix(m, m)\n",
    "%time C_naive = compute_mxm_naive(A, B)\n",
    "%time C_inner_product = compute_mxm_with_inner_products(A, B)"
   ]
  },
  {
   "cell_type": "markdown",
   "metadata": {},
   "source": [
    "The version using inner products should be **much** faster than the naive one. The reason for this is that whenever we call a function that performs a matrix computation (such as the function that computes the inner product product), instead of relying on slow python code we are calling a highly optimised routine that:\n",
    "1. is written in a low-level language (typically Fortran/C with inline assembly); and\n",
    "2. is tuned to the architecture of the machine you are using.\n",
    "This suggests the following crucial rule of thumb.\n",
    "\n",
    "**Rule of thumb.** To improve the performance of your Python implementations of linear algebra algorithms, try to replace **for** loops with calls to `numpy` functions that work directly on vectors and matrices."
   ]
  },
  {
   "cell_type": "markdown",
   "metadata": {},
   "source": [
    "## Algorithm using outer products\n",
    "To conclude this gallery of implementations of algorithms for matrix–matrix multiplication, let us look at an operation that will allow us to implement a function featuring only one **for** loop: the *outer product*. Let $u$ and $v$ be two vectors of length $m$ and $n$, respectively. The $m \\times n$ matrix $uv^T$ is the outer product of $u$ and $v$. Note that the $n \\times m$ matrix $vu^T$ is also an outer product, but clearly $uv^T \\neq vu^T$—in general, the two don't even have the same shape!\n",
    "\n",
    "Our next task will be to write a function `compute_mxm_with_outer_products` that, given in input two matrices $A$ and $B$, computes $C = AB$ using outer products. The function will use the formula\n",
    "$$\n",
    "C = \\sum_{k=1}^{p} A_{*,k} B_{k,*}.\n",
    "$$\n",
    "As usual, a function skeleton is given below. The code should have only one loop over $k$."
   ]
  },
  {
   "cell_type": "code",
   "execution_count": 16,
   "metadata": {
    "nbgrader": {
     "grade": true,
     "grade_id": "cell-6a7bee7a2bd069e2",
     "locked": false,
     "points": 0,
     "schema_version": 3,
     "solution": true,
     "task": false
    }
   },
   "outputs": [],
   "source": [
    "\"\"\"Compute the product of two confomable matrices using outer products.\"\"\"\n",
    "def compute_mxm_with_outer_products(A, B):\n",
    "    # Get the dimensions of C, initialize the matrix, compute its elements\n",
    "    # using inner products, and return it. \n",
    "    # BEGIN SOLUTION\n",
    "    (m, p) = A.shape\n",
    "    (q, n) = B.shape\n",
    "    C = np.zeros([m, n])\n",
    "    for k in range(p):\n",
    "        C += A[:, k:k+1] @ B[k:k+1, :]\n",
    "    return C\n",
    "    ### END SOLUTION"
   ]
  },
  {
   "cell_type": "markdown",
   "metadata": {},
   "source": [
    "We can now run our suite of simple tests."
   ]
  },
  {
   "cell_type": "code",
   "execution_count": 17,
   "metadata": {},
   "outputs": [],
   "source": [
    "f = compute_mxm_with_outer_products\n",
    "run_sanity_check(f)"
   ]
  },
  {
   "cell_type": "markdown",
   "metadata": {},
   "source": [
    "We can time this function against `compute_mxm_with_inner_products` to check that the performance has indeed improved. We can increase the value of $m$ if we remove `compute_mxm_naive`. The built-in `numpy` function `@` should still be over one order of magnitude faster than the fastest of our implementations. But at this point, this should not surprise you: that function does not feature any for loops!"
   ]
  },
  {
   "cell_type": "code",
   "execution_count": 18,
   "metadata": {},
   "outputs": [
    {
     "name": "stdout",
     "output_type": "stream",
     "text": [
      "CPU times: user 215 ms, sys: 0 ns, total: 215 ms\n",
      "Wall time: 215 ms\n",
      "CPU times: user 92.7 ms, sys: 4.29 ms, total: 96.9 ms\n",
      "Wall time: 96.2 ms\n",
      "CPU times: user 164 ms, sys: 117 ms, total: 280 ms\n",
      "Wall time: 11.5 ms\n"
     ]
    }
   ],
   "source": [
    "m = 300\n",
    "A = generate_matrix(m, m)\n",
    "B = generate_matrix(m, m)\n",
    "%time C_inner_product = compute_mxm_with_inner_products(A,B)\n",
    "%time C_outer_product = compute_mxm_with_outer_products(A,B)\n",
    "%time C_built_in = A @ B "
   ]
  }
 ],
 "metadata": {
  "celltoolbar": "Create Assignment",
  "kernelspec": {
   "display_name": "Python 3",
   "language": "python",
   "name": "python3"
  },
  "language_info": {
   "codemirror_mode": {
    "name": "ipython",
    "version": 3
   },
   "file_extension": ".py",
   "mimetype": "text/x-python",
   "name": "python",
   "nbconvert_exporter": "python",
   "pygments_lexer": "ipython3",
   "version": "3.8.11"
  }
 },
 "nbformat": 4,
 "nbformat_minor": 4
}
