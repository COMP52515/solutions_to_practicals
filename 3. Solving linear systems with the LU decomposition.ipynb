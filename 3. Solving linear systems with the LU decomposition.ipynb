{
 "cells": [
  {
   "cell_type": "markdown",
   "metadata": {},
   "source": [
    "# Dense systems of linear equations\n",
    "\n",
    "In this notebook, we implement various routines to solve dense linear systems with the LU decomposition. We will start with a naive implementation of the routine that compute the LU decomposition, and we will then try to improve its performance and reduce its memory footprints. Finally, we will implement backward and forward substitution and use these three building blocks to write a function that solves a linear system."
   ]
  },
  {
   "cell_type": "markdown",
   "metadata": {},
   "source": [
    "## Packages\n",
    "\n",
    "As usual, we will deal with `numpy` matrices and vectors, thus we will need to import that package. We will look at some BLAS implementations in `scipy.linalg`, and we will use `timeit` to time our implementations and `matplotlib.pyplot` to plot the results."
   ]
  },
  {
   "cell_type": "code",
   "execution_count": 1,
   "metadata": {},
   "outputs": [],
   "source": [
    "import numpy as np\n",
    "\n",
    "import scipy as sp\n",
    "from scipy import linalg\n",
    "\n",
    "import matplotlib\n",
    "from matplotlib import pyplot as plt\n",
    "\n",
    "import timeit"
   ]
  },
  {
   "cell_type": "markdown",
   "metadata": {},
   "source": [
    "## Computing the LU decomposition\n",
    "\n",
    "Our first task will be to implement efficient algorithms to compute the LU decomposition. In the cell below, you will find working but naive implementation of the so-called \"Gaussian elimination\" algorithm. This version does not perform row exchanges (also known as pivoting) and uses $O(m^2)$ additional memory."
   ]
  },
  {
   "cell_type": "code",
   "execution_count": 2,
   "metadata": {},
   "outputs": [],
   "source": [
    "def is_numpy_matrix(A):\n",
    "    if type(A) != np.ndarray or A.ndim != 2:\n",
    "        return False\n",
    "    else:\n",
    "        return True\n",
    "\n",
    "def compute_LU_naive(A):\n",
    "    \"\"\" Compute the LU decomposition using a naive three-loop approach.\n",
    "        The algorithm requires a quadratic amount of additional memory.\n",
    "    \"\"\"\n",
    "    assert(is_numpy_matrix(A))\n",
    "    (m, n) = A.shape\n",
    "    assert(m == n)\n",
    "    U = A.copy()\n",
    "    L = np.eye(m)\n",
    "    for k in range(m-1):\n",
    "        for i in range(k+1, m):\n",
    "            L[i, k] = U[i, k] / U[k, k]\n",
    "            U[i, k] = 0\n",
    "            for j in range(k+1, m):\n",
    "                U[i, j] -= L[i, k] * U[k, j]\n",
    "    return L, U"
   ]
  },
  {
   "cell_type": "markdown",
   "metadata": {},
   "source": [
    "First of all, let us perform a sanity check by computing the LU decomposition of some small matrices and testing that indeed $LU \\approx A$."
   ]
  },
  {
   "cell_type": "code",
   "execution_count": 3,
   "metadata": {},
   "outputs": [],
   "source": [
    "def test_LU_decomposition(m, f):\n",
    "    \"\"\" Check that L and U computed by `f`\n",
    "        satisfy LU = A.\n",
    "    \"\"\"\n",
    "    A = np.random.rand(m, m)\n",
    "    L, U = f(A)\n",
    "    if np.allclose(L @ U, A):\n",
    "        return True\n",
    "    else:\n",
    "        return False\n",
    "\n",
    "def run_sanity_check_LU_decomposition(f):\n",
    "    \"\"\" Run basic correctness test on the function `f`.\n",
    "        The latter should be a pointer to a function that\n",
    "        returns two matrices, the L and U factors of the\n",
    "        LU decomposition of the input.\n",
    "    \"\"\"\n",
    "    for m in range(1, 5):\n",
    "        assert(test_LU_decomposition(m, f))\n",
    "\n",
    "f = compute_LU_naive\n",
    "run_sanity_check_LU_decomposition(f)"
   ]
  },
  {
   "cell_type": "markdown",
   "metadata": {},
   "source": [
    "The naive implementation features three nested loops, and we should not expect it to be too efficient. As usual, we can improve it by rewriting the loops as higher-level linear algebra operations. You can try to do this by replacing the innermost loop (over `j`) with inner products, or by replacing the two innermost loops (over `i` and `j`) with outer products. As a starting point, you can use the naive implementation above. You should not worry about the addition memory requirement for now."
   ]
  },
  {
   "cell_type": "code",
   "execution_count": 4,
   "metadata": {
    "nbgrader": {
     "grade": true,
     "grade_id": "cell-d2e90a8719a3180e",
     "locked": false,
     "points": 0,
     "schema_version": 3,
     "solution": true,
     "task": false
    }
   },
   "outputs": [],
   "source": [
    "def compute_LU_inner_products(A):\n",
    "    \"\"\" Compute the LU decomposition using a two-loop approach\n",
    "        based on inner products. The algorithm requires a\n",
    "        quadratic amount of additional memory.\n",
    "    \"\"\"\n",
    "    ### BEGIN SOLUTION\n",
    "    assert(is_numpy_matrix(A))\n",
    "    (m, n) = A.shape\n",
    "    assert(m == n)\n",
    "    U = A.copy()\n",
    "    L = np.eye(m)\n",
    "    for k in range(m-1):\n",
    "        for i in range(k+1, m):\n",
    "            L[i, k] = U[i, k] / U[k, k]\n",
    "            U[i, k] = 0\n",
    "            U[i, k+1:m] -= L[i, k] * U[k, k+1:m]\n",
    "    return L, U\n",
    "    ### END SOLUTION\n",
    "    \n",
    "    \n",
    "def compute_LU_outer_products(A):\n",
    "    \"\"\" Compute the LU decomposition using a single-loop approach\n",
    "        based on outer products. The algorithm requires a\n",
    "        quadratic amount of additional memory.\n",
    "    \"\"\"\n",
    "    ### BEGIN SOLUTION\n",
    "    assert(is_numpy_matrix(A))\n",
    "    (m, n) = A.shape\n",
    "    assert(m == n)\n",
    "    U = A.copy()\n",
    "    L = np.eye(m)\n",
    "    for k in range(m-1):\n",
    "        L[k+1:m, k] = U[k+1:m, k] / U[k, k]\n",
    "        U[k+1:m, k] = 0\n",
    "        U[k+1:m, k+1:m] -= np.outer(L[k+1:m, k], U[k, k+1:m])\n",
    "    return L, U\n",
    "    ### END SOLUTION"
   ]
  },
  {
   "cell_type": "markdown",
   "metadata": {},
   "source": [
    "We can look for bugs in these implementation using the `run_sanity_check` function defined above."
   ]
  },
  {
   "cell_type": "code",
   "execution_count": 5,
   "metadata": {},
   "outputs": [],
   "source": [
    "f = compute_LU_inner_products\n",
    "run_sanity_check_LU_decomposition(f)\n",
    "f = compute_LU_outer_products\n",
    "run_sanity_check_LU_decomposition(f)"
   ]
  },
  {
   "cell_type": "markdown",
   "metadata": {},
   "source": [
    "Once we are satisfied that our implementations are computing what they are supposed to, we can time them, hoping to see the behaviour we are used to: reducing the number of for loops improves the performance of the code."
   ]
  },
  {
   "cell_type": "code",
   "execution_count": 6,
   "metadata": {},
   "outputs": [
    {
     "data": {
      "image/png": "[encoded data removed]",
      "text/plain": [
       "<Figure size 432x288 with 1 Axes>"
      ]
     },
     "metadata": {
      "needs_background": "light"
     },
     "output_type": "display_data"
    }
   ],
   "source": [
    "n_reps = 10 # Number of times the timing will be measured.\n",
    "sizes = np.array([1, 2, 5, 10, 20, 50, 100, 200])\n",
    "timings = np.zeros([sizes.size, 4])\n",
    "for i in range(sizes.size):\n",
    "    m = sizes[i]\n",
    "    A = np.random.rand(m, m)\n",
    "    timings[i, 0] = timeit.timeit(lambda: compute_LU_naive(A), number = n_reps)\n",
    "    timings[i, 1] = timeit.timeit(lambda: compute_LU_inner_products(A), number = n_reps)\n",
    "    timings[i, 2] = timeit.timeit(lambda: compute_LU_outer_products(A), number = n_reps)\n",
    "plt.loglog(sizes, timings)\n",
    "plt.legend(['naive', 'inner', 'outer'])\n",
    "plt.show()"
   ]
  },
  {
   "cell_type": "markdown",
   "metadata": {},
   "source": [
    "If our only goal is only to solve the linear system $Ax = b$, then we do not need to keep a copy of $A$ once we have compute $L$ and $U$. In view of this, instead of allocating two separate—and half-empty—additional matrices, we can modify our code to store them in place in $A$, overwriting the original entries of the input matrix. In fact the two matrices only overlap at the main diagonal, but since we know that $L$ is *unit* lower triangular and therefore that $\\ell_{ii} = 1$, we do not need to store its diagonal explicitly.\n",
    "\n",
    "Now try to implement the algorithm that does this computation in place. As a starting point for your implementation, I recommend using the function `compute_LU_outer_products`. The code will be modifying the input matrix `A` rather than creating a new matrix, therefore **your function should not return anything**."
   ]
  },
  {
   "cell_type": "code",
   "execution_count": 7,
   "metadata": {
    "nbgrader": {
     "grade": true,
     "grade_id": "cell-95b65b4563d09cd4",
     "locked": false,
     "points": 0,
     "schema_version": 3,
     "solution": true,
     "task": false
    }
   },
   "outputs": [],
   "source": [
    "def compute_LU_outer_products_in_place(A):\n",
    "    ### BEGIN SOLUTION\n",
    "    if not is_numpy_matrix(A):\n",
    "        raise Exception(\"The input must be a numpy matrix.\")\n",
    "    (m, n) = A.shape\n",
    "    if m != n:\n",
    "        raise Exception(\"The input must be a square matrix.\")\n",
    "    for k in range(m):\n",
    "            A[k+1:m, k] = A[k+1:m, k] / A[k, k]\n",
    "            A[k+1:m, k+1:m] -= np.outer(A[k+1:m, k], A[k, k+1:m])\n",
    "    ### END SOLUTION"
   ]
  },
  {
   "cell_type": "code",
   "execution_count": 8,
   "metadata": {},
   "outputs": [],
   "source": [
    "def test_LU_decomposition_in_place(m, f):\n",
    "    \"\"\" Check that L and U computed by `f`\n",
    "        satisfy LU = A.\n",
    "    \"\"\"\n",
    "    A = np.random.rand(m, m)\n",
    "    A_copy = A.copy()\n",
    "    f(A_copy)\n",
    "    L = np.tril(A_copy, -1) + np.eye(m)\n",
    "    U = np.triu(A_copy)\n",
    "    if np.allclose(L @ U, A):\n",
    "        return True\n",
    "    else:\n",
    "        return False\n",
    "\n",
    "def run_sanity_check_LU_decomposition_in_place(f):\n",
    "    \"\"\" Run basic correctness test on the function `f`.\n",
    "        The latter should be a pointer to a function that\n",
    "        returns two matrices, the L and U factors of the\n",
    "        LU decomposition of the input.\n",
    "    \"\"\"\n",
    "    for m in range(1, 5):\n",
    "        assert(test_LU_decomposition_in_place(m, f))\n",
    "\n",
    "f = compute_LU_outer_products_in_place\n",
    "run_sanity_check_LU_decomposition_in_place(f)"
   ]
  },
  {
   "cell_type": "markdown",
   "metadata": {},
   "source": [
    "We can now compare the performance of the two outer product-based implementations. You should see the latter being marginally faster, but the difference should be small for larger matrices. The cell below might take a bit of time to run. As usual, you can reduce `n_reps` to get less accurate measurements faster."
   ]
  },
  {
   "cell_type": "code",
   "execution_count": 9,
   "metadata": {},
   "outputs": [
    {
     "data": {
      "image/png": "[encoded data removed]",
      "text/plain": [
       "<Figure size 432x288 with 1 Axes>"
      ]
     },
     "metadata": {
      "needs_background": "light"
     },
     "output_type": "display_data"
    }
   ],
   "source": [
    "n_reps = 10 # Number of times the timing will be measured.\n",
    "sizes = np.array([1, 2, 5, 10, 20, 50, 100, 200, 500, 1000])\n",
    "timings = np.zeros([sizes.size, 4])\n",
    "for i in range(sizes.size):\n",
    "    m = sizes[i]\n",
    "    A = np.random.rand(m, m)\n",
    "    timings[i, 0] = timeit.timeit(lambda: compute_LU_outer_products(A), number = n_reps)\n",
    "    timings[i, 1] = timeit.timeit(lambda: compute_LU_outer_products_in_place(A), number = n_reps)\n",
    "plt.loglog(sizes, timings)\n",
    "plt.legend(['additional memory', 'in-place'])\n",
    "plt.show()"
   ]
  },
  {
   "cell_type": "markdown",
   "metadata": {},
   "source": [
    "## Forward and backward substitution\n",
    "\n",
    "Now that we have a function to factorise a matrix into the product of two triangular matrices, we need to implement the forward and backward substitution algorithms. These will allow us to solve the two linear systems $Ly = b$ and $Ux = y$. As $L$ is unit lower triangular, we can save $m$ divisions by exploiting the fact that $\\ell_{ii} = 1$. You should do that in your implementation. Try to be as efficient as you can, and in particular, try to reduce the number of `for` loops to a minimum."
   ]
  },
  {
   "cell_type": "code",
   "execution_count": 10,
   "metadata": {
    "nbgrader": {
     "grade": true,
     "grade_id": "cell-9850b7bc83df6ec1",
     "locked": false,
     "points": 0,
     "schema_version": 3,
     "solution": true,
     "task": false
    }
   },
   "outputs": [],
   "source": [
    "def is_numpy_vector(x):\n",
    "    if type(A) != np.ndarray or (A.ndim > 2 and x.shape[1] != 1):\n",
    "        return False\n",
    "    else:\n",
    "        return True\n",
    "\n",
    "def solve_upper_triangular_system(U, b):\n",
    "    assert(is_numpy_matrix(U) and is_numpy_vector(b))\n",
    "    (m, n) = U.shape\n",
    "    assert(m == n)\n",
    "    assert(m == b.shape[0])\n",
    "    ### BEGIN SOLUTION\n",
    "    x = np.zeros_like(b)\n",
    "    for i in range(m-1, -1, -1):\n",
    "        x[i] = b[i]\n",
    "        x[i] -= U[i, i+1:m] @ x[i+1:m]\n",
    "        x[i] /= U[i, i]\n",
    "    return x\n",
    "    ### END SOLUTION\n",
    "\n",
    "def solve_unit_lower_triangular_system(L, b):\n",
    "    assert(is_numpy_matrix(L) and is_numpy_vector(b))\n",
    "    (m, n) = L.shape\n",
    "    assert(m == n)\n",
    "    assert(m == b.shape[0])\n",
    "    ### BEGIN SOLUTION\n",
    "    x = np.zeros_like(b)\n",
    "    for i in range(m):\n",
    "        x[i] = b[i]\n",
    "        x[i] -= L[i, 0:i] @ x[0:i]\n",
    "    return x\n",
    "    ### END SOLUTION"
   ]
  },
  {
   "cell_type": "markdown",
   "metadata": {},
   "source": [
    "We will rely on the usual small scale testing in an attempt to smoke out some bugs.\n",
    "\n",
    "The code below uses the function [`sp.linalg.solve_triangular`](https://docs.scipy.org/doc/scipy/reference/generated/scipy.linalg.solve_triangular.html). This is a very useful function if you want to solve a linear system that you know is triangular, and in these cases it is a better option that [`scipy.linalg.solve`](https://docs.scipy.org/doc/scipy/reference/generated/scipy.linalg.solve.html). The latter is a function you can use to solve any linear system—we will use if below. Both functions rely on lower-level BLAS and LAPACK routines, and are therefore as efficient as it gets. I recommend you check out the documentation to see what their interface looks like and what options they provide."
   ]
  },
  {
   "cell_type": "code",
   "execution_count": 11,
   "metadata": {},
   "outputs": [],
   "source": [
    "def test_backward_substitution(m, f):\n",
    "    \"\"\" Compare the result computed by the function `f`\n",
    "        with computed by `numpy.linalg.solve_triangular` on an\n",
    "        upper triangular random matrix.\n",
    "    \"\"\"\n",
    "    U = np.triu(np.random.rand(m, m))\n",
    "    b = np.random.rand(m)\n",
    "    reference = sp.linalg.solve_triangular(U, b)\n",
    "    indices = np.tril_indices(m, -1)\n",
    "    U[indices] = np.nan\n",
    "    if np.allclose(f(U, b), reference):\n",
    "        return True\n",
    "    else:\n",
    "        return False\n",
    "    \n",
    "def run_sanity_check_backward_substitution(f):\n",
    "    \"\"\" Run basic correctness test on the function `f`.\n",
    "        The latter should be a pointer to a function that\n",
    "        solves the linear system Ux = b where U is an\n",
    "        upper triangular matrix.\n",
    "    \"\"\"\n",
    "    for m in range(1, 10):\n",
    "        assert(test_backward_substitution(m, f))\n",
    "\n",
    "def test_forward_substitution(m, f):\n",
    "    \"\"\" Compare the result computed by the function `f`\n",
    "        with computed by `numpy.linalg.solve_triangular` on a\n",
    "        unit lower triangular random matrix.\n",
    "    \"\"\"\n",
    "    L = np.tril(np.random.rand(m, m), -1)\n",
    "    b = np.random.rand(m)\n",
    "    reference = sp.linalg.solve_triangular(L, b, lower=True, unit_diagonal=True)\n",
    "    indices = np.triu_indices(m, 1)\n",
    "    L[indices] = np.nan\n",
    "    if np.allclose(f(L, b), reference):\n",
    "        return True\n",
    "    else:\n",
    "        return False\n",
    "\n",
    "def run_sanity_check_forward_substitution(f):\n",
    "    \"\"\" Run basic correctness test on the function `f`.\n",
    "        The latter should be a pointer to a function that\n",
    "        returns two matrices, the L and U factors of the\n",
    "        LU decomposition of the input.\n",
    "    \"\"\"\n",
    "    for m in range(1, 10):\n",
    "        assert(test_forward_substitution(m, f))\n",
    "\n",
    "f = solve_upper_triangular_system\n",
    "run_sanity_check_backward_substitution(f)\n",
    "\n",
    "f = solve_unit_lower_triangular_system\n",
    "run_sanity_check_forward_substitution(f)"
   ]
  },
  {
   "cell_type": "markdown",
   "metadata": {},
   "source": [
    "We now have all the ingredients we need to solve a linear system using the LU decomposition without any additional memory requirements. You should implement a function that takes as argument a matrix $A$ and a vector $b$ and then solves the linear $Ax = b$ in four steps.\n",
    "1. Compute the LU decomposition of $A$ in place.\n",
    "2. Solve the linear system $Ly = b$ for $y$ without any unnecessary operations.\n",
    "3. Solve the linear system $Ux = y$ for $x$ without any unnecessary operations.\n",
    "4. Return $x$.\n",
    "\n",
    "Try to fill in the function skeleton below. Your implementation should call the functions you implemented above, and if these are correct you should need no more than four lines of code here."
   ]
  },
  {
   "cell_type": "code",
   "execution_count": 12,
   "metadata": {
    "nbgrader": {
     "grade": true,
     "grade_id": "cell-195800ab83bacd41",
     "locked": false,
     "points": 0,
     "schema_version": 3,
     "solution": true,
     "task": false
    }
   },
   "outputs": [],
   "source": [
    "def solve_linear_system_lu(A, b):\n",
    "    # Validate input.\n",
    "    if not is_numpy_matrix(A):\n",
    "        raise Exception(\"The first argument must be a numpy matrix.\")\n",
    "    (m, n) = A.shape\n",
    "    if m != n:\n",
    "        raise Exception(\"The first argument must be a square matrix.\")\n",
    "    if not is_numpy_vector(b):\n",
    "        raise Exception(\"The second argument must be a numpy vector or column matrix.\")\n",
    "    if m != b.shape[0]:\n",
    "        raise Exception(\"First and second argument must be conformable.\")\n",
    "    \n",
    "    ### BEGIN SOLUTION\n",
    "    compute_LU_outer_products_in_place(A)\n",
    "    y = solve_unit_lower_triangular_system(A, b)\n",
    "    x = solve_upper_triangular_system(A, y)\n",
    "    return x\n",
    "    ### END SOLUTION"
   ]
  },
  {
   "cell_type": "markdown",
   "metadata": {},
   "source": [
    "Now we can look for bugs in the implementation with small-scale tests."
   ]
  },
  {
   "cell_type": "code",
   "execution_count": 13,
   "metadata": {},
   "outputs": [],
   "source": [
    "def test_LU_solver(m, f):\n",
    "    \"\"\" Compare the result computed by the function `f`\n",
    "        by the built-in operator `numpy.linalg.solve`.\n",
    "    \"\"\"\n",
    "    A = np.random.rand(m, m)\n",
    "    b = np.random.rand(m)\n",
    "    reference = np.linalg.solve(A, b)\n",
    "    if np.allclose(f(A, b), reference):\n",
    "        return True\n",
    "    else:\n",
    "        return False\n",
    "\n",
    "def run_sanity_check(f):\n",
    "    \"\"\" Run basic correctness test on the function `f`.\n",
    "        The latter should be a pointer to a function that\n",
    "        takes an upper triangular matrix and a vector and\n",
    "        computes their product.\n",
    "    \"\"\"\n",
    "    for m in range(1, 5):\n",
    "        assert(test_LU_solver(m, f))\n",
    "\n",
    "f = solve_linear_system_lu\n",
    "run_sanity_check(f)"
   ]
  }
 ],
 "metadata": {
  "celltoolbar": "Create Assignment",
  "kernelspec": {
   "display_name": "Python 3",
   "language": "python",
   "name": "python3"
  },
  "language_info": {
   "codemirror_mode": {
    "name": "ipython",
    "version": 3
   },
   "file_extension": ".py",
   "mimetype": "text/x-python",
   "name": "python",
   "nbconvert_exporter": "python",
   "pygments_lexer": "ipython3",
   "version": "3.8.11"
  }
 },
 "nbformat": 4,
 "nbformat_minor": 4
}
