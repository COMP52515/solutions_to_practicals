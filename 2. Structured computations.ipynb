{
 "cells": [
  {
   "cell_type": "markdown",
   "metadata": {},
   "source": [
    "# Structured computations\n",
    "\n",
    "Matrices that arise in applications often exhibit an identifiable *structure*. Even though some structures can be rather esoteric, we will be looking at some that are so common to have been given a name. And more importantly, we will see that some classes of matrices are so crucial in applications that the Basic Linear Algebra Subprograms (BLAS) library provides tailored implementations for them.\n",
    "\n",
    "The structure can be easy to spot, for example as a distinctive *sparsity pattern*, that is, a pattern of zero and nonzero entries. Examples of this are banded matrices, whose nonzero elements can only appear in a narrow band along the main (north-west to south-east) diagonal, or triangular matrices, which must have zeros below (or above) the main diagonal.\n",
    "\n",
    "In some cases, the structure underlying the matrix is not as easy to spot. Examples are low-rank matrices, or symmetric and Toeplitz matrices. In these cases, often we only become aware of the hidden structure because we know how the matrices have been generated.\n",
    "\n",
    "Either way, what is most important to us, as developers of linear algebra algorithms, is that exploiting this structure in computation often pays off, because it allows us to develop more efficient and/or more accurate algorithms.\n",
    "\n",
    "In this notebook, we will look at some examples of structured matrices and will try to develop some algorihtms for them. As we have only discussed matrix–vector and matrix–matrix multiplication, we will focus on developing efficient algorithms for these two operations. We will try to use some low level routines directly, and we will try to beat the structure-unaware built-in `numpy` function `@`. As we will see, this is extremely hard to achieve."
   ]
  },
  {
   "cell_type": "markdown",
   "metadata": {},
   "source": [
    "## Python packages\n",
    "For this notebook we will be using `numpy`, as usual, but also three more packages:\n",
    "+ `scipy`, which will allow us to access low-level routines from the [BLAS](https://docs.scipy.org/doc/scipy/reference/linalg.blas.html) and [LAPACK](https://docs.scipy.org/doc/scipy/reference/linalg.lapack.html) libraries;\n",
    "+ `matplotlib`, which provides the neat [`matplotlib.pyplot.spy`](https://matplotlib.org/stable/api/_as_gen/matplotlib.pyplot.spy.html) function to look at the sparsity pattern of a matrix; and\n",
    "+ `timeit`, which provides the [`timeit.timeit`](https://docs.python.org/3/library/timeit.html) function to accurately time code snippets."
   ]
  },
  {
   "cell_type": "code",
   "execution_count": 1,
   "metadata": {},
   "outputs": [],
   "source": [
    "import numpy as np\n",
    "\n",
    "import scipy as sp\n",
    "from scipy import linalg\n",
    "\n",
    "import matplotlib\n",
    "from matplotlib import pyplot as plt\n",
    "\n",
    "import timeit"
   ]
  },
  {
   "cell_type": "markdown",
   "metadata": {},
   "source": [
    "## Triangular matrices\n",
    "\n",
    "We will start with triangular matrices. A square $m$-by-$m$ matrix $A$ is\n",
    "+ upper triangular if $a_{ij} = 0$ when $i > j$; and\n",
    "+ lower triangular is $a_{ij} = 0$ when $i < j$.\n",
    "\n",
    "**IMPORTANT:** Note that we only require that some elements be nonzero. Therefore, a diagonal matrix or the zero matrix are also upper and lower triangular, as they satisfy both  definitions above.\n",
    "\n",
    "Today, we will focus on upper triangular matrices, but the case of lower triangular matrices is equivalent from a computational point of view.\n",
    "\n",
    "First of all, let us implement a function that generates some upper triangular test matrices with random entries. There are two approaches to do this: we can generate a full matrix and then zero out the elements below the main diagonal, or we can start from an empty matrix and populate the nonzero elements.\n",
    "\n",
    "**IMPORTANT:** In order to get efficient implementations when using for loops, it is crucial to access the elements of a matrix in the order in which they are stored in memory. The memory of the computer is linear, and therefore an $m$-by-$n$ matrix must be stored as a long vector of length $m \\cdot n$. The elements can be stored:\n",
    "+ in \"column-major order\": the matrix is stored one column after the other, from left to right; or\n",
    "+ in \"row-major order\": the matrix is stored one row after the other, from top to bottom.\n",
    "\n",
    "By default, NumPy uses row-major order, therefore accessing contiguous elements along a given row and moving from the end of one row to the beginning of the next will be efficient, while accessing elements along a column will incur a performance penalty. In summary, when using 2D `numpy` arrays you should always prefer an implementation that looks at rows rather than columns, if at all possible."
   ]
  },
  {
   "cell_type": "code",
   "execution_count": 2,
   "metadata": {
    "nbgrader": {
     "grade": true,
     "grade_id": "cell-9445564a24f3264f",
     "locked": false,
     "points": 0,
     "schema_version": 3,
     "solution": true,
     "task": false
    }
   },
   "outputs": [],
   "source": [
    "# Generate upper triangular matrices.\n",
    "def generate_upper_triangular_matrix_add(m):\n",
    "    \"\"\" Generate an m-by-m upper triangular matrix with random entries.\n",
    "        This function generates an m-by-m zero matrix and then fills\n",
    "        the upper triangular half with random entries.\n",
    "    \"\"\"\n",
    "    #BEGIN SOLUTION\n",
    "    C = np.zeros([m, m])\n",
    "    for i in range(m):\n",
    "        C[i,i:m] = np.random.rand(m-i)\n",
    "    return C \n",
    "    #END SOLUTION\n",
    "\n",
    "def generate_upper_triangular_matrix_remove(m):\n",
    "    \"\"\" Generate an m-by-m upper triangular matrix with random entries.\n",
    "        This function generates an m-by-m matrix with random entries\n",
    "        before zeroing out the elements in the strictly lower\n",
    "        triangular half.\n",
    "    \"\"\"\n",
    "    #BEGIN SOLUTION\n",
    "    C = np.random.rand(m, m)\n",
    "    for i in range(1,m):\n",
    "        C[i,0:i] = 0\n",
    "    return C\n",
    "    #END SOLUTION\n",
    "\n",
    "def generate_upper_triangular_matrix_triu(m):\n",
    "    \"\"\" Generate an m-by-m upper triangular matrix with random entries.\n",
    "        This function generates an m-by-m matrix with random entries\n",
    "        and then uses `np.triu()` to extract the upper triangular part.\n",
    "        This is efficient for small `m`, but becomes very expensive for\n",
    "        larger matrices as it requires the allocation of an additional\n",
    "        `m`-by-`m` matrix.\n",
    "    \"\"\"\n",
    "    return np.triu(np.random.rand(m, m))"
   ]
  },
  {
   "cell_type": "markdown",
   "metadata": {},
   "source": [
    "As a sanity check, we can \"spy\" the matrices and confirm that in all three cases the sparsity pattern is what we expect."
   ]
  },
  {
   "cell_type": "code",
   "execution_count": 3,
   "metadata": {},
   "outputs": [
    {
     "data": {
      "image/png": "[encoded data removed]",
      "text/plain": [
       "<Figure size 432x288 with 1 Axes>"
      ]
     },
     "metadata": {
      "needs_background": "light"
     },
     "output_type": "display_data"
    },
    {
     "data": {
      "image/png": "[encoded data removed]",
      "text/plain": [
       "<Figure size 432x288 with 1 Axes>"
      ]
     },
     "metadata": {
      "needs_background": "light"
     },
     "output_type": "display_data"
    },
    {
     "data": {
      "image/png": "[encoded data removed]",
      "text/plain": [
       "<Figure size 432x288 with 1 Axes>"
      ]
     },
     "metadata": {
      "needs_background": "light"
     },
     "output_type": "display_data"
    }
   ],
   "source": [
    "m = 20\n",
    "plt.spy(generate_upper_triangular_matrix_add(m))\n",
    "plt.show()\n",
    "plt.spy(generate_upper_triangular_matrix_remove(m))\n",
    "plt.show()\n",
    "plt.spy(generate_upper_triangular_matrix_triu(m))\n",
    "plt.show()"
   ]
  },
  {
   "cell_type": "markdown",
   "metadata": {},
   "source": [
    "Next, we will compare the performance of the three functions by timing them and plotting the results in a log-log plot. Note how the function that is slowest for small matrices ($m < 100$) is the fastest for larger sizes. If the cell takes too long to run, you can just reduce the value of `n_reps` to 1. This will give you less accurate results but will be faster."
   ]
  },
  {
   "cell_type": "code",
   "execution_count": 4,
   "metadata": {},
   "outputs": [
    {
     "data": {
      "image/png": "[encoded data removed]",
      "text/plain": [
       "<Figure size 432x288 with 1 Axes>"
      ]
     },
     "metadata": {
      "needs_background": "light"
     },
     "output_type": "display_data"
    }
   ],
   "source": [
    "n_reps = 5 # Number of times the timing will be measured.\n",
    "sizes = np.array([1, 2, 5, 10, 20, 50, 100, 200, 500, 1000, 2000, 5000, 10000])\n",
    "timings = np.zeros([sizes.size, 3])\n",
    "for i in range(sizes.size):\n",
    "    m = sizes[i]\n",
    "    timings[i, 0] = timeit.timeit(lambda: generate_upper_triangular_matrix_add(m), number = n_reps)\n",
    "    timings[i, 1] = timeit.timeit(lambda: generate_upper_triangular_matrix_remove(m), number = n_reps)\n",
    "    timings[i, 2] = timeit.timeit(lambda: generate_upper_triangular_matrix_triu(m), number = n_reps)\n",
    "plt.loglog(sizes, timings)\n",
    "plt.legend(['add', 'remove', 'triu'])\n",
    "plt.show()"
   ]
  },
  {
   "cell_type": "markdown",
   "metadata": {},
   "source": [
    "Now we can try to implement a function that checks whether a matrix is upper triangular. Try to do it by rows and by columns, to see the difference in timings.\n"
   ]
  },
  {
   "cell_type": "code",
   "execution_count": 5,
   "metadata": {
    "nbgrader": {
     "grade": true,
     "grade_id": "cell-d4cc3467c76e7f80",
     "locked": false,
     "points": 0,
     "schema_version": 3,
     "solution": true,
     "task": false
    }
   },
   "outputs": [],
   "source": [
    "def is_upper_triangular_matrix_by_rows(A):\n",
    "    \"\"\" Check if a matrix is upper triangular.\n",
    "        It scans the matrix by rows.\n",
    "    \"\"\"\n",
    "    #BEGIN SOLUTION\n",
    "    (m, n) = A.shape\n",
    "    if (m != n):\n",
    "        return False\n",
    "    for i in range(1, m):\n",
    "        if any(A[i,0:i] != 0):\n",
    "            return False\n",
    "    return True\n",
    "    #END SOLUTION\n",
    "    \n",
    "def is_upper_triangular_matrix_by_columns(A):\n",
    "    \"\"\" Check if a matrix is upper triangular.\n",
    "        It scans the matrix by columns.\n",
    "    \"\"\"\n",
    "    #BEGIN SOLUTION\n",
    "    (m, n) = A.shape\n",
    "    if (m != n):\n",
    "        return False\n",
    "    for j in range(m-1):\n",
    "        if any(A[j+1:m,j] != 0):\n",
    "            return False\n",
    "    return True\n",
    "    #END SOLUTION"
   ]
  },
  {
   "cell_type": "markdown",
   "metadata": {},
   "source": [
    "First of all, we want to check that the functions are correct. We can do this by taking a small upper triangular matrix and then adding an element that spoils the structure."
   ]
  },
  {
   "cell_type": "code",
   "execution_count": 6,
   "metadata": {},
   "outputs": [],
   "source": [
    "# Test some upper triangular matrices.\n",
    "for m in range(1, 6):\n",
    "    A = generate_upper_triangular_matrix_triu(m)\n",
    "    if not is_upper_triangular_matrix_by_rows(A):\n",
    "        raise Exception(\"Wrong result for `is_upper_triangular_matrix_by_rows(A)`\")\n",
    "    if not is_upper_triangular_matrix_by_columns(A):\n",
    "        raise Exception(\"Wrong result for `is_upper_triangular_matrix_by_columns(A)`\")\n",
    "\n",
    "# Test some non-upper triangular matrices.\n",
    "m = 5\n",
    "for i in range (1, m):\n",
    "    for j in range(i):\n",
    "        A = generate_upper_triangular_matrix_triu(m)\n",
    "        A[i, j] = 1\n",
    "        if is_upper_triangular_matrix_by_rows(A):\n",
    "            raise Exception(\"Wrong result for `is_upper_triangular_matrix_by_rows(A)`\")\n",
    "        if is_upper_triangular_matrix_by_columns(A):\n",
    "            raise Exception(\"Wrong result for `is_upper_triangular_matrix_by_columns(A)`\")"
   ]
  },
  {
   "cell_type": "markdown",
   "metadata": {},
   "source": [
    "Now we can time the two functions and see which implemention is faster for small and large matrices."
   ]
  },
  {
   "cell_type": "code",
   "execution_count": 7,
   "metadata": {
    "nbgrader": {
     "grade": true,
     "grade_id": "cell-a8d27ea072bae2cd",
     "locked": false,
     "points": 0,
     "schema_version": 3,
     "solution": true,
     "task": false
    }
   },
   "outputs": [
    {
     "data": {
      "image/png": "[encoded data removed]",
      "text/plain": [
       "<Figure size 432x288 with 1 Axes>"
      ]
     },
     "metadata": {
      "needs_background": "light"
     },
     "output_type": "display_data"
    }
   ],
   "source": [
    "n_reps = 5 # Number of times the timing will be measured.\n",
    "sizes = np.array([1, 2, 5, 10, 20, 50, 100, 200, 500, 1000, 2000, 5000, 10000])\n",
    "timings = np.zeros([sizes.size, 2])\n",
    "### BEGIN SOLUTION\n",
    "for i in range(sizes.size):\n",
    "    m = sizes[i]\n",
    "    A = generate_upper_triangular_matrix_add(m)\n",
    "    timings[i, 0] = timeit.timeit(lambda: is_upper_triangular_matrix_by_rows(A), number = n_reps)\n",
    "    timings[i, 1] = timeit.timeit(lambda: is_upper_triangular_matrix_by_columns(A), number = n_reps)\n",
    "### END SOLUTION\n",
    "plt.loglog(sizes, timings)\n",
    "plt.legend(['rows', 'columns'])\n",
    "plt.show()"
   ]
  },
  {
   "cell_type": "markdown",
   "metadata": {},
   "source": [
    "You should see that for large enough values of $m$ the row-based solution is faster than the column-based alternative."
   ]
  },
  {
   "cell_type": "markdown",
   "metadata": {},
   "source": [
    "### Triangular matrix–vector multiplication\n",
    "\n",
    "We will now try to implement algorithms for computing the action of an upper triangular matrix on a vector. The \"action of the matrix $A$ on the vector $x$\" is just another way of referring to the vector $Ax$. \n",
    "\n",
    "Given an upper triangular $m$-by-$m$ matrix $T$ and a vector $x$ of length $m$, the entries of the product $y = Tx$ can be computes as\n",
    "\\begin{equation*}\n",
    "y_i = \\sum_{j = i}^{m} t_{ij}x_{j}.\n",
    "\\end{equation*}\n",
    "\n",
    "\n",
    "Try to implement this the usual three ways: naively using two for loops, and then more efficiently using inner and outer products. You can assume that the matrix $T$ is upper triangular—no need to check for this here. You can check that the matrix $T$ is square and that the dimensions of $T$ and $x$ are consistent. No need for fancy code, you can just use `assert`."
   ]
  },
  {
   "cell_type": "code",
   "execution_count": 8,
   "metadata": {
    "nbgrader": {
     "grade": true,
     "grade_id": "cell-fbfc8fc8317079e9",
     "locked": false,
     "points": 0,
     "schema_version": 3,
     "solution": true,
     "task": false
    }
   },
   "outputs": [],
   "source": [
    "def compute_mxv_upper_triangular_naive(T, x):\n",
    "    \"\"\" Compute the product Tx, where T is upper triangular.\n",
    "        This function implements the formula using two loops.\n",
    "    \"\"\"\n",
    "    ### BEGIN SOLUTION\n",
    "    # Check shapes of T and x.\n",
    "    (m, n) = T.shape\n",
    "    assert(m == n)\n",
    "    assert (x.shape[0] == n)\n",
    "    if (x.ndim > 1):\n",
    "        assert(x.ndim == 2 and x.shape[1] == 1)\n",
    "    \n",
    "    # Compute result.\n",
    "    y = np.zeros_like(x)\n",
    "    for i in range(m):\n",
    "        for j in range(i, n):\n",
    "            y[i] += T[i, j] * x[j]\n",
    "    return y\n",
    "    ### END SOLUTION\n",
    "    \n",
    "def compute_mxv_upper_triangular_with_inner_products(T, x):\n",
    "    \"\"\" Compute the product Tx, where T is upper triangular.\n",
    "        This function uses the inner product formulation.\n",
    "    \"\"\"\n",
    "    ### BEGIN SOLUTION\n",
    "    # Check shapes of T and x.\n",
    "    (m, n) = T.shape\n",
    "    assert(m == n)\n",
    "    assert (x.shape[0] == n)\n",
    "    if (x.ndim > 1):\n",
    "        assert(x.ndim == 2 and x.shape[1] == 1)\n",
    "    \n",
    "    # Compute result.\n",
    "    y = np.empty_like(x)\n",
    "    for i in range(m):\n",
    "        y[i] = np.dot(T[i, i:m], x[i:m])\n",
    "    return y\n",
    "    ### END SOLUTION\n",
    "    \n",
    "def compute_mxv_upper_triangular_with_outer_products(T, x):\n",
    "    \"\"\" Compute the product Tx, where T is upper triangular.\n",
    "        This function uses the outer product formulation.\n",
    "    \"\"\"\n",
    "    ### BEGIN SOLUTION\n",
    "    # Check shapes of T and x.\n",
    "    (m, n) = T.shape\n",
    "    assert(m == n)\n",
    "    assert (x.shape[0] == n)\n",
    "    if (x.ndim > 1):\n",
    "        assert(x.ndim == 2 and x.shape[1] == 1)\n",
    "    \n",
    "    # Compute result.\n",
    "    y = np.zeros_like(x)\n",
    "    for j in range(n-1, -1, -1):\n",
    "        y[0:j+1] += np.reshape(T[0:j+1, j] * x[j], y[0:j+1].shape)\n",
    "    return y\n",
    "    ### END SOLUTION"
   ]
  },
  {
   "cell_type": "markdown",
   "metadata": {},
   "source": [
    "As usual, let us first look for obvious bugs by testing the functions. We will use `T @ x` as reference.\n"
   ]
  },
  {
   "cell_type": "code",
   "execution_count": 9,
   "metadata": {},
   "outputs": [],
   "source": [
    "def compare_accuracy_triangular_mxv(m, f):\n",
    "    \"\"\" Compare the result computed by the function `f`\n",
    "        by the built-in operator `@`.\n",
    "    \"\"\"\n",
    "    T = generate_upper_triangular_matrix_add(m)\n",
    "    x = np.random.rand(m)\n",
    "    if np.allclose(f(T, x), T @ x):\n",
    "        return True\n",
    "    else:\n",
    "        print(x)\n",
    "        print(f(T,x))\n",
    "        return False\n",
    "\n",
    "def run_sanity_check(f):\n",
    "    \"\"\" Run basic correctness test on the function `f`.\n",
    "        The latter should be a pointer to a function that\n",
    "        takes an upper triangular matrix and a vector and\n",
    "        computes their product.\n",
    "    \"\"\"\n",
    "    for m in range(1, 5):\n",
    "        assert(compare_accuracy_triangular_mxv(m, f))\n",
    "\n",
    "f = compute_mxv_upper_triangular_naive\n",
    "run_sanity_check(f)\n",
    "f = compute_mxv_upper_triangular_with_inner_products\n",
    "run_sanity_check(f)\n",
    "f = compute_mxv_upper_triangular_with_outer_products\n",
    "run_sanity_check(f)"
   ]
  },
  {
   "cell_type": "markdown",
   "metadata": {},
   "source": [
    "Next, we should make sure that our code is exploiting the structure and not performing any unnecessary computation. In practice, this means avoiding all arithmetic operations whose result is known in advance: sums of zeros (the result is zero), sums where one of the operands is a zero (the result is the nonzero term), multiplications by one (the result is the other factor) or by zero (the result is zero), divisions by one (the result is the dividend), or division with 0 dividend (the result is zero).\n",
    "\n",
    "One effective way to test for this is to perform the same test as above, but replacing the explicit zeros (or ones, if any, although this is not the case here) in the test matrix by the special floating-point value `numpy.nan` (not a number). As any arithmetic operation involving a `numpy.nan` will return a `numpy.nan`, the presence of a `numpy.nan` in the result will be evidence that the algorithm is performing some unnecessary computation. You can do this by modifying the `compare_accuracy_triangular_mxv` to pad the matrix `T` with `numpy.nan` before running the function `f`. You will have to compute the reference solution `T @ x` before padding, as the `@` function does not exploit the structure."
   ]
  },
  {
   "cell_type": "code",
   "execution_count": 10,
   "metadata": {
    "nbgrader": {
     "grade": true,
     "grade_id": "cell-990fccbb90387522",
     "locked": false,
     "points": 0,
     "schema_version": 3,
     "solution": true,
     "task": false
    }
   },
   "outputs": [],
   "source": [
    "def compare_accuracy_triangular_mxv_with_nan(m, f):\n",
    "    \"\"\" Compare the result computed by the function `f`\n",
    "        by the built-in operator `@`.\n",
    "    \"\"\"\n",
    "    ### BEGIN SOLUTION\n",
    "    T = generate_upper_triangular_matrix_add(m)\n",
    "    x = np.random.rand(m)\n",
    "    reference = T @ x\n",
    "    indices = np.tril_indices(m, -1)\n",
    "    T[indices] = np.nan\n",
    "    if np.allclose(f(T, x), reference):\n",
    "        return True\n",
    "    else:\n",
    "        f(T, x)\n",
    "        return False\n",
    "    ### END SOLUTION\n",
    "\n",
    "def run_sanity_check(f):\n",
    "    \"\"\" Run basic correctness test on the function `f`.\n",
    "        The latter should be a pointer to a function that\n",
    "        takes an upper triangular matrix and a vector and\n",
    "        computes their product.\n",
    "    \"\"\"\n",
    "    for m in range(1, 5):\n",
    "        for n in range(1, 5):\n",
    "            for p in range(1, 5):\n",
    "                assert(compare_accuracy_triangular_mxv_with_nan(m, f))\n",
    "\n",
    "f = compute_mxv_upper_triangular_naive\n",
    "run_sanity_check(f)\n",
    "f = compute_mxv_upper_triangular_with_inner_products\n",
    "run_sanity_check(f)\n",
    "f = compute_mxv_upper_triangular_with_outer_products\n",
    "run_sanity_check(f)"
   ]
  },
  {
   "cell_type": "markdown",
   "metadata": {},
   "source": [
    "Now we can time these functions against the default `@`, which does not exploit the structure, and the `scipy.linalg.blas.dtrmv`, which computes the action of a triangular matrix on a vector by calling a low-level BLAS function that exploits the structure."
   ]
  },
  {
   "cell_type": "code",
   "execution_count": 11,
   "metadata": {},
   "outputs": [
    {
     "data": {
      "image/png": "[encoded data removed]",
      "text/plain": [
       "<Figure size 432x288 with 1 Axes>"
      ]
     },
     "metadata": {
      "needs_background": "light"
     },
     "output_type": "display_data"
    }
   ],
   "source": [
    "n_reps = 1 # Number of times the timing will be measured.\n",
    "sizes = np.array([1, 2, 5, 10, 20, 50, 100, 200, 500, 1000, 2000, 5000, 10000])\n",
    "timings = np.zeros([sizes.size, 5])\n",
    "for i in range(sizes.size):\n",
    "    m = sizes[i]\n",
    "    T = generate_upper_triangular_matrix_add(m)\n",
    "    x = np.random.rand(m)\n",
    "    timings[i, 0] = timeit.timeit(lambda: compute_mxv_upper_triangular_naive(T, x), number = n_reps)\n",
    "    timings[i, 1] = timeit.timeit(lambda: compute_mxv_upper_triangular_with_inner_products(T, x), number = n_reps)\n",
    "    timings[i, 2] = timeit.timeit(lambda: compute_mxv_upper_triangular_with_outer_products(T, x), number = n_reps)\n",
    "    timings[i, 3] = timeit.timeit(lambda: T @ x, number = n_reps)\n",
    "    timings[i, 4] = timeit.timeit(lambda: sp.linalg.blas.dtrmv(T, x), number = n_reps)\n",
    "plt.loglog(sizes, timings)\n",
    "plt.legend(['naive', 'inner', 'outer', '@', 'BLAS'])\n",
    "plt.show()"
   ]
  },
  {
   "cell_type": "markdown",
   "metadata": {},
   "source": [
    "You should clearly see the naive algorithm performing much worse than the other four. The timings of the other four algorithms should be closer."
   ]
  },
  {
   "cell_type": "markdown",
   "metadata": {},
   "source": [
    "### Triangular matrix–matrix multiplication\n",
    "\n",
    "Next, we will try to implement a function that computes the product $D = TS$ where $T$ and $S$ are both $m$-by-$m$ upper triangular matrices. We can prove that in this case the usual formula for matrix multiplication gives\n",
    "\\begin{equation*}\n",
    "    d_{ij} = \n",
    "    \\begin{cases}\n",
    "    \\displaystyle\\sum_{k = i}^{j} t_{ik} s_{kj},\\quad &i \\le j,\\\\\n",
    "    0, \\qquad &i > j.\n",
    "    \\end{cases}\n",
    "\\end{equation*}\n",
    "Try to produce these three implementations: a three-loop naive one, a two-loop one based on inner products, and a single-loop one based on outer products. As in the previous section, you can assume that the matrices are both upper triangular, but you might want to check that $T$ and $S$ are square and conformable, for example using `assert`."
   ]
  },
  {
   "cell_type": "code",
   "execution_count": 12,
   "metadata": {
    "nbgrader": {
     "grade": true,
     "grade_id": "cell-9dfea7faa01d0005",
     "locked": false,
     "points": 0,
     "schema_version": 3,
     "solution": true,
     "task": false
    }
   },
   "outputs": [],
   "source": [
    "def compute_mxm_upper_triangular_naive(T, S):\n",
    "    \"\"\" Compute the product TS, where T and S are upper triangular.\n",
    "        This function implements the formula using three loops.\n",
    "    \"\"\"\n",
    "    ### BEGIN SOLUTION\n",
    "    if (T.shape != S.shape):\n",
    "        raise Exception(\"Matrices are not conformable.\")\n",
    "    else:\n",
    "        m = T.shape[0]\n",
    "\n",
    "    D = np.zeros([m, m])\n",
    "    for i in range(m):\n",
    "        for j in range(m):\n",
    "            for k in range (i, j+1):\n",
    "                D[i,j] += T[i, k] * S[k, j]\n",
    "    return D\n",
    "    ### END SOLUTION\n",
    "    \n",
    "def compute_mxm_upper_triangular_with_inner_products(T, S):\n",
    "    \"\"\" Compute the product TS, where T and S are upper triangular.\n",
    "        This function implements the formula using inner products.\n",
    "    \"\"\"\n",
    "    # BEGIN SOLUTION\n",
    "    if (T.shape != S.shape):\n",
    "        raise Exception(\"Matrices are not conformable.\")\n",
    "    else:\n",
    "        m = T.shape[0]\n",
    "\n",
    "    D = np.zeros([m, m])\n",
    "    for i in range(m):\n",
    "        for j in range(m):\n",
    "            D[i,j] += T[i, i:j+1] @ S[i:j+1, j]\n",
    "    return D\n",
    "    ### END SOLUTION\n",
    "    \n",
    "def compute_mxm_upper_triangular_with_outer_products(T, S):\n",
    "    \"\"\" Compute the product TS, where T and S are upper triangular.\n",
    "        This function implements the formula using outer products.\n",
    "    \"\"\"\n",
    "    # BEGIN SOLUTION\n",
    "    if (T.shape != S.shape):\n",
    "        raise Exception(\"Matrices are not conformable.\")\n",
    "    else:\n",
    "        m = T.shape[0]\n",
    "\n",
    "    D = np.zeros([m, m])\n",
    "    for k in range(m):\n",
    "            D[0:k+1, k:m] += np.outer(T[0:k+1, k], S[k, k:m])\n",
    "    return D\n",
    "    ### END SOLUTION"
   ]
  },
  {
   "cell_type": "markdown",
   "metadata": {},
   "source": [
    "We can check test these three matrices directly on `numpy.nan`-padded matrices."
   ]
  },
  {
   "cell_type": "code",
   "execution_count": 13,
   "metadata": {
    "nbgrader": {
     "grade": true,
     "grade_id": "cell-286abaca03f9ffe8",
     "locked": false,
     "points": 0,
     "schema_version": 3,
     "solution": true,
     "task": false
    }
   },
   "outputs": [],
   "source": [
    "def compare_accuracy_triangular_mxv_with_nan(m, f):\n",
    "    \"\"\" Compare the result computed by the function `f`\n",
    "        by the built-in operator `@`.\n",
    "    \"\"\"\n",
    "    ### BEGIN SOLUTION\n",
    "    T = generate_upper_triangular_matrix_add(m)\n",
    "    S =  generate_upper_triangular_matrix_add(m)\n",
    "    reference = T @ S\n",
    "    indices = np.tril_indices(m, -1)\n",
    "    T[indices] = np.nan\n",
    "    S[indices] = np.nan\n",
    "    if np.allclose(f(T, S), reference):\n",
    "        return True\n",
    "    else:\n",
    "        print(f(T,S))\n",
    "        print(reference)\n",
    "        return False\n",
    "    ### END SOLUTION\n",
    "\n",
    "def run_sanity_check(f):\n",
    "    \"\"\" Run basic correctness test on the function `f`.\n",
    "        The latter should be a pointer to a function that\n",
    "        takes an upper triangular matrix and a vector and\n",
    "        computes their product.\n",
    "    \"\"\"\n",
    "    for m in range(1, 5):\n",
    "        assert(compare_accuracy_triangular_mxv_with_nan(m, f))\n",
    "\n",
    "f = compute_mxm_upper_triangular_naive\n",
    "run_sanity_check(f)\n",
    "f = compute_mxm_upper_triangular_with_inner_products\n",
    "run_sanity_check(f)\n",
    "f = compute_mxm_upper_triangular_with_outer_products\n",
    "run_sanity_check(f)"
   ]
  },
  {
   "cell_type": "markdown",
   "metadata": {},
   "source": [
    "For the timing, we can compare our two implementations (leaving out the naive three-loop one, which would be too slow) with the default `@` and with `scipy.linalg.blas.dtrmm`, which exploits the triangular structure of the first of the two matrices (the function computes $\\alpha AB$ where $\\alpha$ is a scalar and either $A$ or $B$ are either upper or lower triangular). "
   ]
  },
  {
   "cell_type": "code",
   "execution_count": 14,
   "metadata": {},
   "outputs": [
    {
     "data": {
      "image/png": "[encoded data removed]",
      "text/plain": [
       "<Figure size 432x288 with 1 Axes>"
      ]
     },
     "metadata": {
      "needs_background": "light"
     },
     "output_type": "display_data"
    }
   ],
   "source": [
    "n_reps = 10 # Number of times the timing will be measured.\n",
    "sizes = np.array([1, 2, 5, 10, 20, 50, 100, 200, 500, 1000])\n",
    "timings = np.zeros([sizes.size, 4])\n",
    "for i in range(sizes.size):\n",
    "    m = sizes[i]\n",
    "    T = generate_upper_triangular_matrix_add(m)\n",
    "    S = generate_upper_triangular_matrix_add(m)\n",
    "    timings[i, 0] = timeit.timeit(lambda: compute_mxm_upper_triangular_with_inner_products(T, S), number = n_reps)\n",
    "    timings[i, 1] = timeit.timeit(lambda: compute_mxm_upper_triangular_with_outer_products(T, S), number = n_reps)\n",
    "    timings[i, 2] = timeit.timeit(lambda: T @ S, number = n_reps)\n",
    "    timings[i, 3] = timeit.timeit(lambda: sp.linalg.blas.dtrmm(1, T, S), number = n_reps)\n",
    "plt.loglog(sizes, timings)\n",
    "plt.legend(['inner', 'outer', '@', 'BLAS'])\n",
    "plt.show()"
   ]
  },
  {
   "cell_type": "markdown",
   "metadata": {},
   "source": [
    "Once again, the function `@` seems hard to beat. This is not the case for larger values of $m$, however."
   ]
  },
  {
   "cell_type": "code",
   "execution_count": 15,
   "metadata": {},
   "outputs": [
    {
     "name": "stdout",
     "output_type": "stream",
     "text": [
      "Timing of @:      10.085079544223845\n",
      "Timing of dtrmm:  6.7574715949594975\n"
     ]
    }
   ],
   "source": [
    "n_reps = 1\n",
    "m = 10000\n",
    "T = generate_upper_triangular_matrix_add(m)\n",
    "S = generate_upper_triangular_matrix_add(m)\n",
    "time_builtin = timeit.timeit(lambda: T @ S, number = n_reps)\n",
    "time_dtrmm = timeit.timeit(lambda: sp.linalg.blas.dtrmm(1, T, S), number = n_reps)\n",
    "print(\"Timing of @:     \", time_builtin)\n",
    "print(\"Timing of dtrmm: \", time_dtrmm)"
   ]
  },
  {
   "cell_type": "markdown",
   "metadata": {},
   "source": [
    "## Hessenberg matrices\n",
    "\n",
    "The upper triangular structure we have considered so far is one of the most fundamental ones, but the use of extremely optimised routines such as `scipy.linalg.blas.dtrmm` is not limited to the case of triangular matrices and can be useful when computing with other patterns as well. Take, for example, Hessenberg matrices. \n",
    "\n",
    "A square $m$-by-$m$ matrix $H$ is upper Hessenberg if $h_{ij} = 0$ when $i > j+1$. In other words, an upper Hessenberg matrix looks like an upper triangular matrix but has one additional diagonal of (potential) nonzero elements. This means that all upper triangular matrices are upper Hessenberg, but the opposite is not true in general.\n",
    "\n",
    "Our final task is to implement a function to compute the matrix–matrix product $D = HA$, where $H$ is an $m$-by-$m$ upper Hessenmberg matrix and $A$ is an $m$-by-$m$ generic (no known structure) dense matrix. We want to go test the performance of this function on rather large matrices (order in the thousands), so the implementation should be as efficient as possible. You might want to use the formula\n",
    "\\begin{equation}\n",
    "    d_{ij} = \\sum_{k=i-1}^{m} h_{ik} a_{kj} = h_{i,i-1} a_{i-1,j} + \\sum_{k=i}^{m} h_{ik} a_{kj},\n",
    "\\end{equation}\n",
    "noticing that the second term in the sum is the formula for the product of *triangular* times *generic* matrix–matrix product. Your function should exploit this and use `scipy.linalg.blas.dtrmm`."
   ]
  },
  {
   "cell_type": "code",
   "execution_count": 16,
   "metadata": {
    "nbgrader": {
     "grade": true,
     "grade_id": "cell-11278e815a776297",
     "locked": false,
     "points": 0,
     "schema_version": 3,
     "solution": true,
     "task": false
    }
   },
   "outputs": [],
   "source": [
    "def generate_upper_hessenberg_matrix(m):\n",
    "    \"\"\" Generate an m-by-m upper Hessenberg matrix with random entries.\n",
    "        This function generates an m-by-m zero matrix and then fills\n",
    "        the upper triangular half with random entries.\n",
    "    \"\"\"\n",
    "    ### BEGIN SOLUTION\n",
    "    C = np.zeros([m, m])\n",
    "    C[0,:] = np.random.rand(m)\n",
    "    for i in range(1, m):\n",
    "        C[i,i-1:m] = np.random.rand(m-i+1)\n",
    "    return C \n",
    "    ### END SOLUTION\n",
    "    \n",
    "def compute_mxm_upper_hessenberg_generic(H, A):\n",
    "    \"\"\" Compute the product HA, where H is upper Hessenberg and A is generic.\n",
    "        The function checks that the matrices are conformable, but does not\n",
    "        check whether H is upper Hessenberg.\n",
    "    \"\"\"\n",
    "    ### BEGIN SOLUTION\n",
    "    (m, p) = H.shape\n",
    "    (q, n) = A.shape\n",
    "    if (p != q):\n",
    "        raise Exception(\"Matrices are not conformable.\")\n",
    "    C = sp.linalg.blas.dtrmm(1, H, A)\n",
    "    for i in range(m-1):\n",
    "        C[i+1, :] += H[i+1, i] * A[i, :]\n",
    "    ### END SOLUTION\n",
    "    return C"
   ]
  },
  {
   "cell_type": "markdown",
   "metadata": {},
   "source": [
    "As usual, we should start with a sanity check, to look for obvious bugs."
   ]
  },
  {
   "cell_type": "code",
   "execution_count": 17,
   "metadata": {
    "nbgrader": {
     "grade": true,
     "grade_id": "cell-2501dd4f70d78412",
     "locked": false,
     "points": 0,
     "schema_version": 3,
     "solution": true,
     "task": false
    }
   },
   "outputs": [],
   "source": [
    "def compare_accuracy_upper_hessenberg_mxm_with_nan(m, f):\n",
    "    \"\"\" Compare the result computed by the function `f`\n",
    "        by the built-in operator `@`.\n",
    "    \"\"\"\n",
    "    ### BEGIN SOLUTION\n",
    "    H = generate_upper_hessenberg_matrix(m)\n",
    "    A = np.random.rand(m, m)\n",
    "    reference = H @ A\n",
    "    indices = np.tril_indices(m, -2)\n",
    "    H[indices] = np.nan\n",
    "    if np.allclose(f(H, A), reference):\n",
    "        return True\n",
    "    else:\n",
    "        print(f(H,A))\n",
    "        print(reference)\n",
    "        return False\n",
    "    ### END SOLUTION\n",
    "\n",
    "def run_sanity_check(f):\n",
    "    \"\"\" Run basic correctness test on the function `f`.\n",
    "        The latter should be a pointer to a function that\n",
    "        takes an upper triangular matrix and a vector and\n",
    "        computes their product.\n",
    "    \"\"\"\n",
    "    for m in range(1, 10):\n",
    "        for n in range(1, 10):\n",
    "            for p in range(1, 10):\n",
    "                assert(compare_accuracy_upper_hessenberg_mxm_with_nan(m, f))\n",
    "\n",
    "f = compute_mxm_upper_hessenberg_generic\n",
    "run_sanity_check(f)"
   ]
  },
  {
   "cell_type": "markdown",
   "metadata": {},
   "source": [
    "This matrix–matrix multiplication algorithm was a difficult one to get right. If you have made it this far and your implementation passes the sanity check, you can—and indeed should—be very happy. This was a long and difficult notebook. We have only one thing left to look at—the highlight of this session: the timings."
   ]
  },
  {
   "cell_type": "code",
   "execution_count": 18,
   "metadata": {},
   "outputs": [
    {
     "name": "stdout",
     "output_type": "stream",
     "text": [
      "CPU times: user 1min 27s, sys: 2.88 s, total: 1min 30s\n",
      "Wall time: 6.34 s\n",
      "CPU times: user 3min 45s, sys: 1min, total: 4min 45s\n",
      "Wall time: 9.77 s\n"
     ]
    }
   ],
   "source": [
    "m = 10000\n",
    "H = generate_upper_hessenberg_matrix(m)\n",
    "A = np.random.rand(m,m)\n",
    "%time B = compute_mxm_upper_hessenberg_generic(H, A)\n",
    "%time B = H @ A"
   ]
  },
  {
   "cell_type": "markdown",
   "metadata": {},
   "source": [
    "I hope that `compute_mxm_hessenberg_generic(H, A)` is faster than `H @ A` for you. It should be, if your implementation is the most efficient possible."
   ]
  }
 ],
 "metadata": {
  "celltoolbar": "Create Assignment",
  "kernelspec": {
   "display_name": "Python 3",
   "language": "python",
   "name": "python3"
  },
  "language_info": {
   "codemirror_mode": {
    "name": "ipython",
    "version": 3
   },
   "file_extension": ".py",
   "mimetype": "text/x-python",
   "name": "python",
   "nbconvert_exporter": "python",
   "pygments_lexer": "ipython3",
   "version": "3.8.11"
  }
 },
 "nbformat": 4,
 "nbformat_minor": 4
}
